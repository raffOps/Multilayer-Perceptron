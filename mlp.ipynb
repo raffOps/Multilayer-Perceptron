{
 "cells": [
  {
   "cell_type": "code",
   "execution_count": 66,
   "metadata": {
    "ExecuteTime": {
     "end_time": "2020-03-14T21:48:27.212222Z",
     "start_time": "2020-03-14T21:48:27.209117Z"
    }
   },
   "outputs": [],
   "source": [
    "import numpy as np\n",
    "import pandas as pd\n",
    "import seaborn as sns\n",
    "from sklearn.preprocessing import MinMaxScaler, StandardScaler\n",
    "from sklearn.model_selection import train_test_split"
   ]
  },
  {
   "cell_type": "code",
   "execution_count": 67,
   "metadata": {
    "ExecuteTime": {
     "end_time": "2020-03-14T21:48:27.516997Z",
     "start_time": "2020-03-14T21:48:27.446922Z"
    }
   },
   "outputs": [
    {
     "data": {
      "text/html": [
       "<div>\n",
       "<style scoped>\n",
       "    .dataframe tbody tr th:only-of-type {\n",
       "        vertical-align: middle;\n",
       "    }\n",
       "\n",
       "    .dataframe tbody tr th {\n",
       "        vertical-align: top;\n",
       "    }\n",
       "\n",
       "    .dataframe thead th {\n",
       "        text-align: right;\n",
       "    }\n",
       "</style>\n",
       "<table border=\"1\" class=\"dataframe\">\n",
       "  <thead>\n",
       "    <tr style=\"text-align: right;\">\n",
       "      <th></th>\n",
       "      <th>age</th>\n",
       "      <th>gender</th>\n",
       "      <th>height</th>\n",
       "      <th>weight</th>\n",
       "      <th>ap_hi</th>\n",
       "      <th>ap_lo</th>\n",
       "      <th>cholesterol</th>\n",
       "      <th>gluc</th>\n",
       "      <th>smoke</th>\n",
       "      <th>alco</th>\n",
       "      <th>active</th>\n",
       "      <th>cardio</th>\n",
       "    </tr>\n",
       "    <tr>\n",
       "      <th>id</th>\n",
       "      <th></th>\n",
       "      <th></th>\n",
       "      <th></th>\n",
       "      <th></th>\n",
       "      <th></th>\n",
       "      <th></th>\n",
       "      <th></th>\n",
       "      <th></th>\n",
       "      <th></th>\n",
       "      <th></th>\n",
       "      <th></th>\n",
       "      <th></th>\n",
       "    </tr>\n",
       "  </thead>\n",
       "  <tbody>\n",
       "    <tr>\n",
       "      <th>0</th>\n",
       "      <td>18393</td>\n",
       "      <td>2</td>\n",
       "      <td>168</td>\n",
       "      <td>62.0</td>\n",
       "      <td>110</td>\n",
       "      <td>80</td>\n",
       "      <td>1</td>\n",
       "      <td>1</td>\n",
       "      <td>0</td>\n",
       "      <td>0</td>\n",
       "      <td>1</td>\n",
       "      <td>0</td>\n",
       "    </tr>\n",
       "    <tr>\n",
       "      <th>1</th>\n",
       "      <td>20228</td>\n",
       "      <td>1</td>\n",
       "      <td>156</td>\n",
       "      <td>85.0</td>\n",
       "      <td>140</td>\n",
       "      <td>90</td>\n",
       "      <td>3</td>\n",
       "      <td>1</td>\n",
       "      <td>0</td>\n",
       "      <td>0</td>\n",
       "      <td>1</td>\n",
       "      <td>1</td>\n",
       "    </tr>\n",
       "    <tr>\n",
       "      <th>2</th>\n",
       "      <td>18857</td>\n",
       "      <td>1</td>\n",
       "      <td>165</td>\n",
       "      <td>64.0</td>\n",
       "      <td>130</td>\n",
       "      <td>70</td>\n",
       "      <td>3</td>\n",
       "      <td>1</td>\n",
       "      <td>0</td>\n",
       "      <td>0</td>\n",
       "      <td>0</td>\n",
       "      <td>1</td>\n",
       "    </tr>\n",
       "    <tr>\n",
       "      <th>3</th>\n",
       "      <td>17623</td>\n",
       "      <td>2</td>\n",
       "      <td>169</td>\n",
       "      <td>82.0</td>\n",
       "      <td>150</td>\n",
       "      <td>100</td>\n",
       "      <td>1</td>\n",
       "      <td>1</td>\n",
       "      <td>0</td>\n",
       "      <td>0</td>\n",
       "      <td>1</td>\n",
       "      <td>1</td>\n",
       "    </tr>\n",
       "    <tr>\n",
       "      <th>4</th>\n",
       "      <td>17474</td>\n",
       "      <td>1</td>\n",
       "      <td>156</td>\n",
       "      <td>56.0</td>\n",
       "      <td>100</td>\n",
       "      <td>60</td>\n",
       "      <td>1</td>\n",
       "      <td>1</td>\n",
       "      <td>0</td>\n",
       "      <td>0</td>\n",
       "      <td>0</td>\n",
       "      <td>0</td>\n",
       "    </tr>\n",
       "  </tbody>\n",
       "</table>\n",
       "</div>"
      ],
      "text/plain": [
       "      age  gender  height  weight  ap_hi  ap_lo  cholesterol  gluc  smoke  \\\n",
       "id                                                                          \n",
       "0   18393       2     168    62.0    110     80            1     1      0   \n",
       "1   20228       1     156    85.0    140     90            3     1      0   \n",
       "2   18857       1     165    64.0    130     70            3     1      0   \n",
       "3   17623       2     169    82.0    150    100            1     1      0   \n",
       "4   17474       1     156    56.0    100     60            1     1      0   \n",
       "\n",
       "    alco  active  cardio  \n",
       "id                        \n",
       "0      0       1       0  \n",
       "1      0       1       1  \n",
       "2      0       0       1  \n",
       "3      0       1       1  \n",
       "4      0       0       0  "
      ]
     },
     "execution_count": 67,
     "metadata": {},
     "output_type": "execute_result"
    }
   ],
   "source": [
    "df = pd.read_csv(\"cardio_train.csv\", delimiter=\";\", index_col=0)\n",
    "df.head()"
   ]
  },
  {
   "cell_type": "code",
   "execution_count": 68,
   "metadata": {
    "ExecuteTime": {
     "end_time": "2020-03-14T21:48:27.756462Z",
     "start_time": "2020-03-14T21:48:27.677520Z"
    }
   },
   "outputs": [],
   "source": [
    "pcs = MinMaxScaler()\n",
    "variaveis_continuas = [\"age\", \"height\", \"weight\", \"ap_hi\", \"ap_lo\", \"cholesterol\"]\n",
    "df[variaveis_continuas] = pcs.fit(df[variaveis_continuas]).transform(df[variaveis_continuas])"
   ]
  },
  {
   "cell_type": "code",
   "execution_count": 69,
   "metadata": {
    "ExecuteTime": {
     "end_time": "2020-03-14T21:48:28.301801Z",
     "start_time": "2020-03-14T21:48:28.283673Z"
    }
   },
   "outputs": [
    {
     "data": {
      "text/plain": [
       "1    45530\n",
       "2    24470\n",
       "Name: gender, dtype: int64"
      ]
     },
     "execution_count": 69,
     "metadata": {},
     "output_type": "execute_result"
    }
   ],
   "source": [
    "df.gender.value_counts()"
   ]
  },
  {
   "cell_type": "code",
   "execution_count": 70,
   "metadata": {
    "ExecuteTime": {
     "end_time": "2020-03-14T21:48:28.745409Z",
     "start_time": "2020-03-14T21:48:28.706396Z"
    }
   },
   "outputs": [],
   "source": [
    "df.gender = df.gender.apply(lambda genero: 0 if genero == 2 else genero)"
   ]
  },
  {
   "cell_type": "code",
   "execution_count": 6,
   "metadata": {
    "ExecuteTime": {
     "end_time": "2020-03-14T20:35:37.144047Z",
     "start_time": "2020-03-14T20:35:37.125896Z"
    }
   },
   "outputs": [
    {
     "data": {
      "text/plain": [
       "Index(['age', 'gender', 'height', 'weight', 'ap_hi', 'ap_lo', 'cholesterol',\n",
       "       'gluc', 'smoke', 'alco', 'active', 'cardio'],\n",
       "      dtype='object')"
      ]
     },
     "execution_count": 6,
     "metadata": {},
     "output_type": "execute_result"
    }
   ],
   "source": [
    "df.columns"
   ]
  },
  {
   "cell_type": "code",
   "execution_count": 71,
   "metadata": {
    "ExecuteTime": {
     "end_time": "2020-03-14T21:48:29.062180Z",
     "start_time": "2020-03-14T21:48:29.042414Z"
    }
   },
   "outputs": [],
   "source": [
    "x, y = df.iloc[:,:-1].to_numpy(), df.iloc[:,-1].to_numpy()"
   ]
  },
  {
   "cell_type": "code",
   "execution_count": 72,
   "metadata": {
    "ExecuteTime": {
     "end_time": "2020-03-14T21:48:29.489827Z",
     "start_time": "2020-03-14T21:48:29.468211Z"
    }
   },
   "outputs": [],
   "source": [
    "X_train, X_test, y_train, y_test = train_test_split(x, y, test_size=0.2)\n",
    "X_train = X_train.T\n",
    "X_test = X_test.T\n",
    "y_train = y_train.reshape((1, X_train.shape[1]))\n",
    "y_test = y_test.reshape((1, X_test.shape[1]))"
   ]
  },
  {
   "cell_type": "markdown",
   "metadata": {},
   "source": [
    "### Cada layer terá uma matriz de pesos W e um vetor bias b associado. A dimensão da matriz W é definida com a quantidade de linhas sendo igual a quantidade de nodos no layer e a quantidade colunas como a quantidade de inputs do layer. O vetor bias terá um bias para cada nodo layer"
   ]
  },
  {
   "cell_type": "code",
   "execution_count": 73,
   "metadata": {
    "ExecuteTime": {
     "end_time": "2020-03-14T21:48:31.677072Z",
     "start_time": "2020-03-14T21:48:31.670908Z"
    }
   },
   "outputs": [],
   "source": [
    "def get_parametros_iniciais(tamanho_layers):\n",
    "    parametros = []\n",
    "    for indice in range(1,len(tamanho_layers)):\n",
    "        parametros.append([np.random.randn(tamanho_layers[indice], tamanho_layers[indice-1]) * (2/np.sqrt(tamanho_layers[indice-1])),\n",
    "                           np.zeros((tamanho_layers[indice], 1))])\n",
    "    return parametros\n",
    "        "
   ]
  },
  {
   "cell_type": "markdown",
   "metadata": {},
   "source": [
    "### Definição das funções de ativação utilizadas: sigmóide e relu"
   ]
  },
  {
   "cell_type": "code",
   "execution_count": 74,
   "metadata": {
    "ExecuteTime": {
     "end_time": "2020-03-14T21:48:32.168806Z",
     "start_time": "2020-03-14T21:48:32.159063Z"
    }
   },
   "outputs": [],
   "source": [
    "def sigmoid(Z):\n",
    "    \"\"\"\n",
    "    Implements the sigmoid activation in numpy\n",
    "    \n",
    "    Arguments:\n",
    "    Z -- numpy array of any shape\n",
    "    \n",
    "    Returns:\n",
    "    A -- output of sigmoid(z), same shape as Z\n",
    "    cache -- returns Z as well, useful during backpropagation\n",
    "    \"\"\"\n",
    "    \n",
    "    A = 1/(1+np.exp(-Z))\n",
    "    \n",
    "    return A\n",
    "\n",
    "def relu(Z):\n",
    "    \"\"\"\n",
    "    Implement the RELU function.\n",
    "\n",
    "    Arguments:\n",
    "    Z -- Output of the linear layer, of any shape\n",
    "\n",
    "    Returns:\n",
    "    A -- Post-activation parameter, of the same shape as Z\n",
    "    cache -- a python dictionary containing \"A\" ; stored for computing the backward pass efficiently\n",
    "    \"\"\"\n",
    "    \n",
    "    A = np.maximum(0,Z)\n",
    "\n",
    "    return A"
   ]
  },
  {
   "cell_type": "markdown",
   "metadata": {
    "ExecuteTime": {
     "end_time": "2020-03-11T18:47:53.154687Z",
     "start_time": "2020-03-11T18:47:53.149470Z"
    }
   },
   "source": [
    "### Esquema forward propagation\n",
    "<img src=\"imagens/model_architecture_kiank.png\" style=\"width:600px;height:300px;\">"
   ]
  },
  {
   "cell_type": "code",
   "execution_count": 183,
   "metadata": {
    "ExecuteTime": {
     "end_time": "2020-03-14T23:49:21.517943Z",
     "start_time": "2020-03-14T23:49:21.499762Z"
    }
   },
   "outputs": [],
   "source": [
    "def forward_propagation(X, parametros):\n",
    "    cache = []\n",
    "    A = X\n",
    "    quantidade_layers = len(parametros)\n",
    "    for indice_layer in range(0, quantidade_layers-1): # foward propagation até o ultimo layer antes do layer output\n",
    "        #print(indice_layer)\n",
    "        W = parametros[indice_layer][0]\n",
    "        b = parametros[indice_layer][1]\n",
    "        print(W.shape, A.shape, b.shape)\n",
    "        Z = np.dot(W, A) + b\n",
    "        cache.append((A, Z, W, b))\n",
    "        A = relu(Z)\n",
    "    W, b = parametros[indice_layer+1] # como é um problema de classificao, o último layer deve obrigatoriamente ter\n",
    "                                      #  a funcao sigmoide como funcao de ativação\n",
    "    \n",
    "    Z = np.dot(W, A) \n",
    "    print(W.shape, A.shape,Z.shape, b.shape)\n",
    "    Z = Z.T + b\n",
    "    cache.append((A, Z, W, b))\n",
    "    A = sigmoid(Z.T)\n",
    "    \n",
    "    return A, cache"
   ]
  },
  {
   "cell_type": "markdown",
   "metadata": {},
   "source": [
    "### A função custo usada aqui é definida como: $$-\\frac{1}{m} \\sum\\limits_{i = 1}^{m} (y^{(i)}\\log\\left(a^{[L] (i)}\\right) + (1-y^{(i)})\\log\\left(1- a^{[L](i)}\\right)) \\tag{7}$$"
   ]
  },
  {
   "cell_type": "code",
   "execution_count": 83,
   "metadata": {
    "ExecuteTime": {
     "end_time": "2020-03-14T22:29:08.764054Z",
     "start_time": "2020-03-14T22:29:08.760079Z"
    }
   },
   "outputs": [],
   "source": [
    "def get_custo(A, Y):    \n",
    "    m = Y.shape[1]\n",
    "    if 0 in A or 1 in a:\n",
    "        print(\"zerro\")\n",
    "    custo = (1./m) * (-np.dot(Y,np.log(A).T) - np.dot(1-Y, np.log(1-A).T))\n",
    "    custo = float(np.squeeze(custo))\n",
    "    return custo"
   ]
  },
  {
   "cell_type": "code",
   "execution_count": 59,
   "metadata": {
    "ExecuteTime": {
     "end_time": "2020-03-14T21:43:26.661105Z",
     "start_time": "2020-03-14T21:43:26.654706Z"
    }
   },
   "outputs": [],
   "source": [
    "tamanho_layers = [len(df.columns)-1, 6, 9, 5, 1]"
   ]
  },
  {
   "cell_type": "code",
   "execution_count": 60,
   "metadata": {
    "ExecuteTime": {
     "end_time": "2020-03-14T21:43:26.923079Z",
     "start_time": "2020-03-14T21:43:26.913975Z"
    }
   },
   "outputs": [],
   "source": [
    "parametros = get_parametros_iniciais(tamanho_layers)"
   ]
  },
  {
   "cell_type": "code",
   "execution_count": 61,
   "metadata": {
    "ExecuteTime": {
     "end_time": "2020-03-14T21:43:27.779808Z",
     "start_time": "2020-03-14T21:43:27.768614Z"
    }
   },
   "outputs": [],
   "source": [
    "A, cache = forward_propagation(X_train, parametros)"
   ]
  },
  {
   "cell_type": "code",
   "execution_count": 84,
   "metadata": {
    "ExecuteTime": {
     "end_time": "2020-03-14T22:29:09.842806Z",
     "start_time": "2020-03-14T22:29:09.836771Z"
    }
   },
   "outputs": [],
   "source": [
    "def derivada_relu(dA, Z):\n",
    "    dZ = np.array(dA, copy=True) \n",
    "    dZ[Z <= 0] = 0\n",
    "    return dZ\n",
    "\n",
    "def derivada_sigmoide(dA, Z):\n",
    "    s = 1/(1+np.exp(-Z))\n",
    "    dZ = dA * s * (1-s)    \n",
    "    return dZ"
   ]
  },
  {
   "cell_type": "code",
   "execution_count": 85,
   "metadata": {
    "ExecuteTime": {
     "end_time": "2020-03-14T22:29:10.281054Z",
     "start_time": "2020-03-14T22:29:10.267058Z"
    }
   },
   "outputs": [],
   "source": [
    "def backward_propagation(A, cache, Y):\n",
    "    L = len(cache)\n",
    "    m = A.shape[1]\n",
    "    Y = Y.reshape(A.shape)\n",
    "    gradientes = []\n",
    "    \n",
    "    dA = - (np.divide(Y, A) - np.divide(1 - Y, 1 - A)) # derivada do custo em função de A\n",
    "    A_prev, Z, W, b = cache[-1]\n",
    "    dZ = derivada_sigmoide(dA, Z)\n",
    "\n",
    "    dA_layer_antetior = np.dot(W.T, dZ)\n",
    "    dW = np.dot(dZ, A_prev.T) / m\n",
    "    db = np.sum(dZ, axis=1, keepdims=True) / m\n",
    "    gradientes.append([dW, db])\n",
    "    \n",
    "    \n",
    "    for l in (range(L-1))[::-1]:\n",
    "        dA = dA_layer_antetior\n",
    "        A_prev, Z, W, b = cache[l]\n",
    "        dZ = derivada_relu(dA, Z)\n",
    "\n",
    "        dA_layer_antetior = np.dot(W.T, dZ)\n",
    "        dW = np.dot(dZ, A_prev.T) / m\n",
    "        db = np.sum(dZ, axis=1, keepdims=True) / m\n",
    "        gradientes.append([dW, db])\n",
    "        \n",
    "    return gradientes[::-1]\n"
   ]
  },
  {
   "cell_type": "code",
   "execution_count": 18,
   "metadata": {
    "ExecuteTime": {
     "end_time": "2020-03-14T20:36:36.613941Z",
     "start_time": "2020-03-14T20:36:36.611335Z"
    }
   },
   "outputs": [],
   "source": [
    "a = get_parametros_iniciais([4,3,2,1])"
   ]
  },
  {
   "cell_type": "code",
   "execution_count": 86,
   "metadata": {
    "ExecuteTime": {
     "end_time": "2020-03-14T22:29:10.963896Z",
     "start_time": "2020-03-14T22:29:10.947807Z"
    }
   },
   "outputs": [],
   "source": [
    "def get_parametros_atualizados(parametros, gradientes, taxa_aprendizado=0.05):\n",
    "    L = len(parametros) \n",
    "    for l in range(L):\n",
    "        parametros[l][0] -= taxa_aprendizado * gradientes[l][0]\n",
    "        parametros[l][1] -= taxa_aprendizado * gradientes[l][1] \n",
    "    return parametros\n",
    "    "
   ]
  },
  {
   "cell_type": "code",
   "execution_count": 110,
   "metadata": {
    "ExecuteTime": {
     "end_time": "2020-03-14T22:42:08.261021Z",
     "start_time": "2020-03-14T22:42:08.243728Z"
    }
   },
   "outputs": [],
   "source": [
    "def fit(X, Y, taxa_aprenzido, iteracoes, tamanhos_layers):\n",
    "    global gradientes\n",
    "    parametros = get_parametros_iniciais(tamanho_layers)\n",
    "    custos = []\n",
    "    for iteracao in range(iteracoes):\n",
    "        A, cache = forward_propagation(X, parametros)\n",
    "        custo = get_custo(A, Y)\n",
    "        custos.append(custo)\n",
    "        if iteracao % 500 == 0:\n",
    "            print(\"Iteração: {} | Custo: {}\".format(iteracao, custo))\n",
    "        gradientes = backward_propagation(A, cache, Y)\n",
    "        parametros = get_parametros_atualizados(parametros, gradientes)\n",
    "    \n",
    "    return parametros, custos        "
   ]
  },
  {
   "cell_type": "code",
   "execution_count": 94,
   "metadata": {
    "ExecuteTime": {
     "end_time": "2020-03-14T22:33:49.456929Z",
     "start_time": "2020-03-14T22:33:49.449139Z"
    }
   },
   "outputs": [
    {
     "ename": "AttributeError",
     "evalue": "'numpy.ndarray' object has no attribute 'flattern'",
     "output_type": "error",
     "traceback": [
      "\u001b[0;31m---------------------------------------------------------------------------\u001b[0m",
      "\u001b[0;31mAttributeError\u001b[0m                            Traceback (most recent call last)",
      "\u001b[0;32m<ipython-input-94-5bdc0e6a3ccd>\u001b[0m in \u001b[0;36m<module>\u001b[0;34m\u001b[0m\n\u001b[0;32m----> 1\u001b[0;31m \u001b[0mparametros\u001b[0m\u001b[0;34m[\u001b[0m\u001b[0;36m0\u001b[0m\u001b[0;34m]\u001b[0m\u001b[0;34m[\u001b[0m\u001b[0;36m0\u001b[0m\u001b[0;34m]\u001b[0m\u001b[0;34m.\u001b[0m\u001b[0mflattern\u001b[0m\u001b[0;34m(\u001b[0m\u001b[0;34m)\u001b[0m\u001b[0;34m\u001b[0m\u001b[0;34m\u001b[0m\u001b[0m\n\u001b[0m",
      "\u001b[0;31mAttributeError\u001b[0m: 'numpy.ndarray' object has no attribute 'flattern'"
     ]
    }
   ],
   "source": [
    "parametros[0][0].flattern()"
   ]
  },
  {
   "cell_type": "code",
   "execution_count": 108,
   "metadata": {
    "ExecuteTime": {
     "end_time": "2020-03-14T22:41:46.855849Z",
     "start_time": "2020-03-14T22:41:46.849923Z"
    }
   },
   "outputs": [],
   "source": [
    "parametro = parametros[0]"
   ]
  },
  {
   "cell_type": "code",
   "execution_count": 109,
   "metadata": {
    "ExecuteTime": {
     "end_time": "2020-03-14T22:41:47.104617Z",
     "start_time": "2020-03-14T22:41:47.098050Z"
    }
   },
   "outputs": [],
   "source": [
    "gradientes = []"
   ]
  },
  {
   "cell_type": "code",
   "execution_count": 116,
   "metadata": {
    "ExecuteTime": {
     "end_time": "2020-03-14T22:47:56.175991Z",
     "start_time": "2020-03-14T22:47:56.168188Z"
    }
   },
   "outputs": [],
   "source": [
    "lista_parametros = np.concatenate([np.concatenate([parametro[0].flatten(), parametro[1].flatten()]) \n",
    "                                       for parametro in parametros])"
   ]
  },
  {
   "cell_type": "code",
   "execution_count": 117,
   "metadata": {
    "ExecuteTime": {
     "end_time": "2020-03-14T22:48:31.396902Z",
     "start_time": "2020-03-14T22:48:31.392938Z"
    }
   },
   "outputs": [
    {
     "data": {
      "text/plain": [
       "[11, 10, 10, 8, 8, 6, 6, 4, 4, 2, 1]"
      ]
     },
     "execution_count": 117,
     "metadata": {},
     "output_type": "execute_result"
    }
   ],
   "source": [
    "tamanho_layers"
   ]
  },
  {
   "cell_type": "code",
   "execution_count": 175,
   "metadata": {
    "ExecuteTime": {
     "end_time": "2020-03-14T23:20:29.577956Z",
     "start_time": "2020-03-14T23:20:29.564199Z"
    }
   },
   "outputs": [],
   "source": [
    "def converte_array_em_parametros(array, tamanho_layers):\n",
    "    parametros = []\n",
    "    for index in range(1, len(tamanho_layers)):\n",
    "        w_shape_linear = tamanho_layers[index]*tamanho_layers[index-1]\n",
    "        w = array[:w_shape_linear].reshape((tamanho_layers[index], tamanho_layers[index-1]))\n",
    "        b = array[w_shape_linear:w_shape_linear + tamanho_layers[index]].reshape((tamanho_layers[index], 1))\n",
    "        parametros.append([w, b])\n",
    "        array = array[w_shape_linear + tamanho_layers[index]:]\n",
    "    return parametros"
   ]
  },
  {
   "cell_type": "code",
   "execution_count": 164,
   "metadata": {
    "ExecuteTime": {
     "end_time": "2020-03-14T23:16:08.500447Z",
     "start_time": "2020-03-14T23:16:08.495992Z"
    }
   },
   "outputs": [],
   "source": [
    "parametros = get_parametros_iniciais(tamanho_layers)"
   ]
  },
  {
   "cell_type": "code",
   "execution_count": 165,
   "metadata": {
    "ExecuteTime": {
     "end_time": "2020-03-14T23:16:08.893423Z",
     "start_time": "2020-03-14T23:16:08.877422Z"
    }
   },
   "outputs": [],
   "source": [
    "flat_parametros = np.concatenate([np.concatenate([parametro[0].flatten(), parametro[1].flatten()]) \n",
    "                                       for parametro in parametros])"
   ]
  },
  {
   "cell_type": "code",
   "execution_count": 166,
   "metadata": {
    "ExecuteTime": {
     "end_time": "2020-03-14T23:16:10.824248Z",
     "start_time": "2020-03-14T23:16:10.817245Z"
    }
   },
   "outputs": [
    {
     "name": "stdout",
     "output_type": "stream",
     "text": [
      "True\n",
      "True\n",
      "True\n",
      "True\n",
      "True\n",
      "True\n",
      "True\n",
      "True\n",
      "True\n",
      "True\n"
     ]
    }
   ],
   "source": [
    "for index in range(len(parametros)):\n",
    "    print(np.array_equal(converte_array_em_parametros(flat_parametros, tamanho_layers)[index][0], parametros[index][0])\n",
    "          and np.array_equal(converte_array_em_parametros(flat_parametros, tamanho_layers)[index][1], parametros[index][1]))"
   ]
  },
  {
   "cell_type": "code",
   "execution_count": 177,
   "metadata": {
    "ExecuteTime": {
     "end_time": "2020-03-14T23:20:49.935464Z",
     "start_time": "2020-03-14T23:20:49.912273Z"
    }
   },
   "outputs": [],
   "source": [
    "def verifica_backpropagation(parametros, gradientes, tamanho_layers, X, Y, epsilon=1e-7):\n",
    "    parameters_values = np.concatenate([np.concatenate([parametro[0].flatten(), parametro[1].flatten()]) \n",
    "                                       for parametro in parametros])\n",
    "    grads =  np.concatenate([np.concatenate([gradiente[0].flatten(), gradiente[1].flatten()]) \n",
    "                                       for gradiente in gradientes])\n",
    "    \n",
    "    num_parameters = parameters_values.shape[0]\n",
    "    J_plus = np.zeros((num_parameters, 1))\n",
    "    J_minus = np.zeros((num_parameters, 1))\n",
    "    gradapprox = np.zeros((num_parameters, 1))\n",
    "    \n",
    "    for i in range(num_parameters):\n",
    "        \n",
    "        # Compute J_plus[i]. Inputs: \"parameters_values, epsilon\". Output = \"J_plus[i]\".\n",
    "        # \"_\" is used because the function you have to outputs two parameters but we only care about the first one\n",
    "        ### START CODE HERE ### (approx. 3 lines)\n",
    "        thetaplus =  np.copy(parameters_values)                                       # Step 1\n",
    "        thetaplus[i] = thetaplus[i] + epsilon                                   # Step 2\n",
    "        a = converte_array_em_parametros(thetaplus, tamanho_layers)\n",
    "        J_plus[i], _ =  forward_propagation(X, a)  # Step 3\n",
    "        J_plus[i] = get_custo(J_plus[i], Y)\n",
    "        ### END CODE HERE ###\n",
    "        \n",
    "        # Compute J_minus[i]. Inputs: \"parameters_values, epsilon\". Output = \"J_minus[i]\".\n",
    "        ### START CODE HERE ### (approx. 3 lines)\n",
    "        thetaminus = np.copy(parameters_values)                                       # Step 1\n",
    "        thetaminus[i] = thetaminus[i] - epsilon                                 # Step 2       \n",
    "        b = converte_array_em_parametros(thetaminus, tamanho_layers)\n",
    "        J_minus[i], _ = forward_propagation(X, b) # Step 3\n",
    "        J_minus[i] = get_custo(J_minus[i], Y)\n",
    "        ### END CODE HERE ###\n",
    "        \n",
    "        # Compute gradapprox[i]\n",
    "        ### START CODE HERE ### (approx. 1 line)\n",
    "        gradapprox[i] = (J_plus[i] - J_minus[i]) / (2 * epsilon)\n",
    "        ### END CODE HERE ###\n",
    "    \n",
    "    # Compare gradapprox to backward propagation gradients by computing difference.\n",
    "    ### START CODE HERE ### (approx. 1 line)\n",
    "    numerator = np.linalg.norm(grad - gradapprox)                                     # Step 1'\n",
    "    denominator = np.linalg.norm(grad) + np.linalg.norm(gradapprox)                   # Step 2'\n",
    "    difference = numerator / denominator                                              # Step 3'\n",
    "    ### END CODE HERE ###\n",
    "\n",
    "    if difference > 1e-7:\n",
    "        print(\"\\033[93m\" + \"There is a mistake in the backward propagation! difference = \" + str(difference) + \"\\033[0m\")\n",
    "    else:\n",
    "        print(\"\\033[92m\" + \"Your backward propagation works perfectly fine! difference = \" + str(difference) + \"\\033[0m\")\n",
    "    \n",
    "    return difference\n",
    "    "
   ]
  },
  {
   "cell_type": "code",
   "execution_count": 184,
   "metadata": {
    "ExecuteTime": {
     "end_time": "2020-03-14T23:49:25.424891Z",
     "start_time": "2020-03-14T23:49:25.360950Z"
    }
   },
   "outputs": [
    {
     "name": "stdout",
     "output_type": "stream",
     "text": [
      "(10, 11) (11, 56000) (10, 1)\n",
      "(10, 10) (10, 56000) (10, 1)\n",
      "(8, 10) (10, 56000) (8, 1)\n",
      "(8, 8) (8, 56000) (8, 1)\n",
      "(6, 8) (8, 56000) (6, 1)\n",
      "(6, 6) (6, 56000) (6, 1)\n",
      "(4, 6) (6, 56000) (4, 1)\n",
      "(4, 4) (4, 56000) (4, 1)\n",
      "(2, 4) (4, 56000) (2, 1)\n",
      "(1, 2) (2, 56000) (1, 56000) (1, 1)\n"
     ]
    },
    {
     "ename": "ValueError",
     "evalue": "could not broadcast input array from shape (56000) into shape (1)",
     "output_type": "error",
     "traceback": [
      "\u001b[0;31m---------------------------------------------------------------------------\u001b[0m",
      "\u001b[0;31mValueError\u001b[0m                                Traceback (most recent call last)",
      "\u001b[0;32m<ipython-input-184-795b8c36634a>\u001b[0m in \u001b[0;36m<module>\u001b[0;34m\u001b[0m\n\u001b[0;32m----> 1\u001b[0;31m \u001b[0mverifica_backpropagation\u001b[0m\u001b[0;34m(\u001b[0m\u001b[0mparametros\u001b[0m\u001b[0;34m,\u001b[0m \u001b[0mgradientes\u001b[0m\u001b[0;34m,\u001b[0m \u001b[0mtamanho_layers\u001b[0m\u001b[0;34m,\u001b[0m \u001b[0mX_train\u001b[0m\u001b[0;34m,\u001b[0m \u001b[0my_train\u001b[0m\u001b[0;34m)\u001b[0m\u001b[0;34m\u001b[0m\u001b[0;34m\u001b[0m\u001b[0m\n\u001b[0m",
      "\u001b[0;32m<ipython-input-177-5cd1da303c2b>\u001b[0m in \u001b[0;36mverifica_backpropagation\u001b[0;34m(parametros, gradientes, tamanho_layers, X, Y, epsilon)\u001b[0m\n\u001b[1;32m     18\u001b[0m         \u001b[0mthetaplus\u001b[0m\u001b[0;34m[\u001b[0m\u001b[0mi\u001b[0m\u001b[0;34m]\u001b[0m \u001b[0;34m=\u001b[0m \u001b[0mthetaplus\u001b[0m\u001b[0;34m[\u001b[0m\u001b[0mi\u001b[0m\u001b[0;34m]\u001b[0m \u001b[0;34m+\u001b[0m \u001b[0mepsilon\u001b[0m                                   \u001b[0;31m# Step 2\u001b[0m\u001b[0;34m\u001b[0m\u001b[0;34m\u001b[0m\u001b[0m\n\u001b[1;32m     19\u001b[0m         \u001b[0ma\u001b[0m \u001b[0;34m=\u001b[0m \u001b[0mconverte_array_em_parametros\u001b[0m\u001b[0;34m(\u001b[0m\u001b[0mthetaplus\u001b[0m\u001b[0;34m,\u001b[0m \u001b[0mtamanho_layers\u001b[0m\u001b[0;34m)\u001b[0m\u001b[0;34m\u001b[0m\u001b[0;34m\u001b[0m\u001b[0m\n\u001b[0;32m---> 20\u001b[0;31m         \u001b[0mJ_plus\u001b[0m\u001b[0;34m[\u001b[0m\u001b[0mi\u001b[0m\u001b[0;34m]\u001b[0m\u001b[0;34m,\u001b[0m \u001b[0m_\u001b[0m \u001b[0;34m=\u001b[0m  \u001b[0mforward_propagation\u001b[0m\u001b[0;34m(\u001b[0m\u001b[0mX\u001b[0m\u001b[0;34m,\u001b[0m \u001b[0ma\u001b[0m\u001b[0;34m)\u001b[0m  \u001b[0;31m# Step 3\u001b[0m\u001b[0;34m\u001b[0m\u001b[0;34m\u001b[0m\u001b[0m\n\u001b[0m\u001b[1;32m     21\u001b[0m         \u001b[0mJ_plus\u001b[0m\u001b[0;34m[\u001b[0m\u001b[0mi\u001b[0m\u001b[0;34m]\u001b[0m \u001b[0;34m=\u001b[0m \u001b[0mget_custo\u001b[0m\u001b[0;34m(\u001b[0m\u001b[0mJ_plus\u001b[0m\u001b[0;34m[\u001b[0m\u001b[0mi\u001b[0m\u001b[0;34m]\u001b[0m\u001b[0;34m,\u001b[0m \u001b[0mY\u001b[0m\u001b[0;34m)\u001b[0m\u001b[0;34m\u001b[0m\u001b[0;34m\u001b[0m\u001b[0m\n\u001b[1;32m     22\u001b[0m         \u001b[0;31m### END CODE HERE ###\u001b[0m\u001b[0;34m\u001b[0m\u001b[0;34m\u001b[0m\u001b[0;34m\u001b[0m\u001b[0m\n",
      "\u001b[0;31mValueError\u001b[0m: could not broadcast input array from shape (56000) into shape (1)"
     ]
    }
   ],
   "source": [
    "verifica_backpropagation(parametros, gradientes, tamanho_layers, X_train, y_train)"
   ]
  },
  {
   "cell_type": "code",
   "execution_count": 115,
   "metadata": {
    "ExecuteTime": {
     "end_time": "2020-03-14T22:43:17.000766Z",
     "start_time": "2020-03-14T22:43:16.976176Z"
    }
   },
   "outputs": [
    {
     "data": {
      "text/plain": [
       "array([ 0.00000000e+00,  0.00000000e+00,  0.00000000e+00,  0.00000000e+00,\n",
       "        0.00000000e+00,  0.00000000e+00,  0.00000000e+00,  0.00000000e+00,\n",
       "        0.00000000e+00,  0.00000000e+00,  0.00000000e+00,  0.00000000e+00,\n",
       "        0.00000000e+00,  0.00000000e+00,  0.00000000e+00,  0.00000000e+00,\n",
       "        0.00000000e+00,  0.00000000e+00,  0.00000000e+00,  0.00000000e+00,\n",
       "        0.00000000e+00,  0.00000000e+00, -1.24914528e-04,  1.07478068e-04,\n",
       "        2.01755116e-07, -3.32213752e-05, -1.97849694e-06, -3.67136953e-07,\n",
       "       -1.44192628e-04, -2.15693662e-04, -3.22384185e-05,  3.41651912e-06,\n",
       "       -2.86979477e-06,  1.71696855e-05,  8.45778446e-06,  1.26625248e-05,\n",
       "        1.07165480e-05,  1.21786666e-06,  4.86934933e-07,  6.69325320e-05,\n",
       "        2.85295258e-05,  2.69479076e-07,  4.19465265e-08,  3.73852588e-06,\n",
       "        2.79933113e-04, -2.70490618e-05,  9.72444105e-05,  3.00878039e-05,\n",
       "        4.84994422e-06,  4.76921485e-06,  1.39620595e-04, -2.27108575e-05,\n",
       "        0.00000000e+00, -1.78810348e-05, -5.39817603e-05, -1.58899682e-04,\n",
       "       -5.62015915e-05, -7.28037149e-05, -3.81346119e-05, -2.58909685e-06,\n",
       "       -4.45540683e-06, -8.86819256e-05, -1.77504111e-04,  2.34511762e-05,\n",
       "        4.88419983e-07, -2.07792000e-05, -9.51968771e-05, -2.51542091e-04,\n",
       "       -2.30620660e-05, -5.54398238e-05, -1.76168818e-06, -4.11255662e-06,\n",
       "       -2.60907190e-04, -1.33298412e-04,  7.46145514e-05,  3.17834298e-05,\n",
       "        1.50055947e-05,  0.00000000e+00,  0.00000000e+00,  0.00000000e+00,\n",
       "        0.00000000e+00,  0.00000000e+00,  0.00000000e+00,  0.00000000e+00,\n",
       "        0.00000000e+00,  0.00000000e+00,  0.00000000e+00,  0.00000000e+00,\n",
       "       -3.93391424e-04, -1.23734408e-04, -1.49533049e-04, -1.37724718e-04,\n",
       "       -7.05055698e-06, -5.44745856e-06, -2.28813291e-04, -5.46343788e-04,\n",
       "       -4.23939313e-06,  8.74372561e-06, -5.04572553e-06, -9.93851412e-05,\n",
       "       -1.40474543e-04, -3.92109445e-05, -1.62472231e-05, -2.04302906e-06,\n",
       "       -6.46400248e-06, -1.45456072e-04, -4.27280227e-05,  5.93504553e-05,\n",
       "        1.37963427e-05,  1.43637068e-05,  0.00000000e+00,  0.00000000e+00,\n",
       "        2.81584197e-06,  2.81079032e-05,  1.97151980e-04, -1.41826752e-04,\n",
       "       -5.48920684e-05,  0.00000000e+00, -2.69007027e-04, -9.08778025e-05,\n",
       "        0.00000000e+00,  0.00000000e+00,  0.00000000e+00,  0.00000000e+00,\n",
       "        0.00000000e+00,  0.00000000e+00,  0.00000000e+00,  0.00000000e+00,\n",
       "        0.00000000e+00,  0.00000000e+00,  0.00000000e+00,  0.00000000e+00,\n",
       "        4.23294727e-04,  2.94640185e-05,  1.65102762e-04,  2.83685393e-04,\n",
       "        5.02374841e-04,  0.00000000e+00,  5.57010475e-05,  1.21030335e-04,\n",
       "        0.00000000e+00,  0.00000000e+00,  0.00000000e+00,  0.00000000e+00,\n",
       "        0.00000000e+00,  0.00000000e+00,  0.00000000e+00,  0.00000000e+00,\n",
       "        0.00000000e+00,  0.00000000e+00,  0.00000000e+00,  0.00000000e+00,\n",
       "       -1.88585161e-04, -5.12818409e-06, -2.07391927e-05, -6.24783342e-06,\n",
       "       -1.79119776e-04,  0.00000000e+00,  5.55891681e-05, -6.60622730e-05,\n",
       "        0.00000000e+00,  0.00000000e+00, -2.11074873e-05,  0.00000000e+00,\n",
       "       -5.82037667e-06,  7.46996690e-06, -1.37552758e-05,  0.00000000e+00,\n",
       "       -1.27011508e-06, -3.97007826e-06,  0.00000000e+00,  0.00000000e+00,\n",
       "       -2.24355541e-04, -4.99003379e-05, -5.07056562e-05,  1.22567663e-04,\n",
       "       -1.76016984e-04,  0.00000000e+00, -1.73332042e-05, -4.51041830e-05,\n",
       "        0.00000000e+00,  0.00000000e+00, -3.02606489e-04, -1.45883194e-05,\n",
       "       -2.40631034e-04,  7.81817002e-06, -4.00344504e-04,  0.00000000e+00,\n",
       "       -8.62013158e-05, -3.34755652e-04,  0.00000000e+00,  0.00000000e+00,\n",
       "       -1.87778132e-04,  1.45918987e-05, -1.22260864e-05,  7.20718669e-05,\n",
       "       -6.85988792e-05,  0.00000000e+00, -1.18314773e-05, -1.78118078e-04,\n",
       "        0.00000000e+00,  0.00000000e+00,  1.45326004e-06,  0.00000000e+00,\n",
       "        1.37282795e-07,  1.87650386e-07,  9.05470761e-07,  0.00000000e+00,\n",
       "        8.47760368e-07,  1.16343857e-06,  0.00000000e+00,  0.00000000e+00,\n",
       "       -7.45623967e-04,  1.08415680e-05, -2.44582296e-04,  5.75603987e-05,\n",
       "       -4.37671722e-04,  0.00000000e+00, -7.05213902e-05, -5.90410704e-04,\n",
       "        0.00000000e+00,  2.59279451e-04,  0.00000000e+00, -1.03888273e-05,\n",
       "       -9.22348536e-08, -2.31879573e-05, -2.02715240e-04, -2.99107866e-05,\n",
       "        9.39302092e-07, -2.74257239e-04,  0.00000000e+00,  4.06467404e-04,\n",
       "        0.00000000e+00,  2.45968411e-04,  2.99841434e-07,  2.29413718e-04,\n",
       "        2.27543737e-04,  1.01254392e-04,  0.00000000e+00,  4.46034008e-04,\n",
       "        0.00000000e+00, -1.43045340e-04,  0.00000000e+00, -6.39449212e-05,\n",
       "       -3.47445387e-08, -2.08170710e-04, -5.68490368e-06, -7.42107948e-05,\n",
       "        0.00000000e+00, -2.40677530e-04,  0.00000000e+00, -1.53619457e-04,\n",
       "        0.00000000e+00, -1.70009424e-04, -2.08078030e-06, -9.75122585e-05,\n",
       "        2.21203174e-04, -1.28773157e-04, -3.12763730e-08, -3.94319510e-04,\n",
       "        0.00000000e+00,  9.99736514e-05,  0.00000000e+00,  1.72418843e-05,\n",
       "        7.97268001e-08,  1.29305361e-04,  7.79253149e-05,  5.79958128e-05,\n",
       "        1.00378385e-08,  1.28877940e-04,  0.00000000e+00, -3.39345844e-05,\n",
       "        0.00000000e+00, -2.85160443e-05, -5.28324328e-06, -3.06853852e-05,\n",
       "        2.01806486e-04, -3.65227693e-06, -1.50316396e-08, -8.60650040e-05,\n",
       "        0.00000000e+00,  2.42139263e-04,  0.00000000e+00,  1.84844442e-04,\n",
       "        2.85875536e-06,  2.34332303e-04, -6.76104382e-05,  9.21170462e-05,\n",
       "        1.37475472e-08,  4.11788641e-04,  0.00000000e+00, -9.79716871e-05,\n",
       "        0.00000000e+00,  4.39728134e-05, -7.58563216e-08, -9.52365778e-05,\n",
       "       -1.77508814e-04, -3.41528522e-06,  5.11530984e-09,  2.62966190e-07,\n",
       "        0.00000000e+00,  2.35285567e-04,  0.00000000e+00,  2.53798009e-04,\n",
       "        4.44582503e-06,  1.88196915e-04,  1.23342969e-04,  1.19085990e-04,\n",
       "        1.18062106e-08,  3.20724262e-04,  3.10293397e-04, -1.18947849e-04,\n",
       "        3.91594032e-06,  9.95309131e-05,  1.00171555e-04,  1.03453341e-04,\n",
       "       -1.00818588e-04,  2.05125683e-04, -3.03818612e-07,  9.43832529e-08,\n",
       "        5.38597133e-06,  1.28863476e-05, -2.64819566e-06, -6.16393321e-07,\n",
       "        6.85305009e-06, -8.64218470e-07,  5.03135498e-06,  8.39846407e-05,\n",
       "        8.41418524e-05, -3.97220798e-05,  5.01965787e-05,  4.37712896e-05,\n",
       "       -3.20100987e-04,  1.85364400e-05, -1.81954027e-05, -9.03712548e-05,\n",
       "       -2.00740873e-05,  7.31554765e-05, -5.11477293e-05,  1.05180691e-05,\n",
       "        4.49792649e-04, -2.05084922e-05,  0.00000000e+00,  0.00000000e+00,\n",
       "        0.00000000e+00,  0.00000000e+00,  0.00000000e+00,  0.00000000e+00,\n",
       "        0.00000000e+00,  0.00000000e+00,  0.00000000e+00,  0.00000000e+00,\n",
       "        0.00000000e+00,  0.00000000e+00,  0.00000000e+00,  0.00000000e+00,\n",
       "        0.00000000e+00,  0.00000000e+00, -1.42771020e-05, -7.46791997e-05,\n",
       "       -2.99494358e-04,  3.17187747e-05, -4.99811573e-05, -5.90614910e-05,\n",
       "        2.45554775e-04, -1.81812658e-05,  5.46748393e-06,  3.45528303e-05,\n",
       "        4.08602758e-05, -2.19918157e-05,  2.05596018e-05,  8.48051259e-06,\n",
       "       -1.48860948e-04,  7.89181047e-06,  7.84422345e-06,  7.52300277e-05,\n",
       "        2.11479850e-05, -4.70116040e-05,  4.32536918e-05,  1.58646161e-05,\n",
       "       -3.29772104e-04,  1.65854205e-05,  4.26620379e-06, -2.81032836e-05,\n",
       "        6.36421369e-05,  0.00000000e+00,  0.00000000e+00, -2.65709200e-05,\n",
       "       -1.35063154e-05, -4.38398494e-05,  0.00000000e+00, -9.96034933e-09,\n",
       "       -4.59802457e-09,  0.00000000e+00,  0.00000000e+00, -1.21335847e-08,\n",
       "       -5.40316023e-09,  7.79411833e-09,  1.77183242e-05, -1.03001121e-04,\n",
       "        4.88157848e-05,  0.00000000e+00,  0.00000000e+00, -3.07611804e-04,\n",
       "       -1.68832593e-04, -2.56751803e-04,  0.00000000e+00, -1.04470418e-08,\n",
       "       -2.06748474e-08,  0.00000000e+00,  0.00000000e+00, -3.51128162e-08,\n",
       "       -2.20268032e-08, -6.22281951e-08,  0.00000000e+00,  0.00000000e+00,\n",
       "        0.00000000e+00,  0.00000000e+00,  0.00000000e+00,  0.00000000e+00,\n",
       "        0.00000000e+00,  0.00000000e+00, -1.92827098e-05, -5.24229293e-05,\n",
       "       -2.93012337e-04,  0.00000000e+00,  0.00000000e+00,  1.12866154e-04,\n",
       "       -2.52553928e-05,  1.13555994e-04,  2.79348715e-05,  1.42183010e-04,\n",
       "        5.37995055e-04,  0.00000000e+00,  0.00000000e+00, -7.65126102e-05,\n",
       "        1.52907660e-04, -5.13107067e-05, -8.23007816e-11, -9.00812253e-05,\n",
       "       -1.69125716e-08,  0.00000000e+00,  3.98362398e-05, -1.85843146e-05,\n",
       "        3.86043675e-08, -4.55796418e-04,  4.53068819e-08,  0.00000000e+00,\n",
       "       -9.59422847e-04, -2.87561688e-04,  5.54152423e-08,  2.60752411e-05,\n",
       "        6.50364714e-08,  0.00000000e+00, -3.49782281e-04, -1.20673402e-04,\n",
       "       -4.63615104e-08, -5.28947354e-05, -5.44108249e-08,  0.00000000e+00,\n",
       "        5.25131868e-04,  2.01532997e-04,  0.00000000e+00,  0.00000000e+00,\n",
       "        0.00000000e+00,  0.00000000e+00,  0.00000000e+00,  0.00000000e+00,\n",
       "        0.00000000e+00,  0.00000000e+00,  0.00000000e+00,  0.00000000e+00,\n",
       "        0.00000000e+00,  0.00000000e+00,  0.00000000e+00,  0.00000000e+00,\n",
       "        0.00000000e+00,  0.00000000e+00,  0.00000000e+00,  0.00000000e+00,\n",
       "       -9.23899373e-05,  4.76205339e-06, -3.22287893e-06,  0.00000000e+00,\n",
       "        0.00000000e+00,  0.00000000e+00,  0.00000000e+00,  0.00000000e+00,\n",
       "        0.00000000e+00,  0.00000000e+00,  0.00000000e+00,  0.00000000e+00,\n",
       "        1.35136851e-04, -9.90931539e-04, -3.26674688e-04,  0.00000000e+00,\n",
       "        0.00000000e+00,  0.00000000e+00,  5.79540362e-06, -1.35846923e-04,\n",
       "        3.94784486e-05,  0.00000000e+00,  0.00000000e+00,  0.00000000e+00,\n",
       "        0.00000000e+00,  0.00000000e+00,  0.00000000e+00,  0.00000000e+00,\n",
       "        0.00000000e+00,  0.00000000e+00,  0.00000000e+00, -1.86143926e-06,\n",
       "        1.37907624e-05,  0.00000000e+00,  0.00000000e+00, -3.79848254e-04,\n",
       "       -4.66026561e-04,  0.00000000e+00,  0.00000000e+00,  5.74143007e-07,\n",
       "       -2.53348291e-04,  0.00000000e+00,  0.00000000e+00,  0.00000000e+00,\n",
       "        0.00000000e+00,  0.00000000e+00,  0.00000000e+00,  0.00000000e+00,\n",
       "        0.00000000e+00,  0.00000000e+00,  5.25682227e-05,  6.32890804e-05,\n",
       "        0.00000000e+00,  0.00000000e+00, -1.36494246e-03, -6.39553084e-05,\n",
       "        0.00000000e+00,  0.00000000e+00,  0.00000000e+00,  0.00000000e+00,\n",
       "        0.00000000e+00,  0.00000000e+00,  1.79940384e-04,  0.00000000e+00,\n",
       "       -5.12938493e-03,  0.00000000e+00,  2.07724885e-03])"
      ]
     },
     "execution_count": 115,
     "metadata": {},
     "output_type": "execute_result"
    }
   ],
   "source": [
    " np.concatenate([np.concatenate([gradiente[0].flatten(), gradiente[1].flatten()]) \n",
    "                                       for gradiente in gradientes])"
   ]
  },
  {
   "cell_type": "code",
   "execution_count": 111,
   "metadata": {
    "ExecuteTime": {
     "end_time": "2020-03-14T22:42:28.177421Z",
     "start_time": "2020-03-14T22:42:12.986015Z"
    }
   },
   "outputs": [
    {
     "name": "stdout",
     "output_type": "stream",
     "text": [
      "Iteração: 0 | Custo: 0.6931606018309444\n"
     ]
    },
    {
     "ename": "KeyboardInterrupt",
     "evalue": "",
     "output_type": "error",
     "traceback": [
      "\u001b[0;31m---------------------------------------------------------------------------\u001b[0m",
      "\u001b[0;31mKeyboardInterrupt\u001b[0m                         Traceback (most recent call last)",
      "\u001b[0;32m<ipython-input-111-11294510c0e8>\u001b[0m in \u001b[0;36m<module>\u001b[0;34m\u001b[0m\n\u001b[1;32m      1\u001b[0m \u001b[0mtamanho_layers\u001b[0m \u001b[0;34m=\u001b[0m \u001b[0;34m[\u001b[0m\u001b[0mlen\u001b[0m\u001b[0;34m(\u001b[0m\u001b[0mdf\u001b[0m\u001b[0;34m.\u001b[0m\u001b[0mcolumns\u001b[0m\u001b[0;34m)\u001b[0m\u001b[0;34m-\u001b[0m\u001b[0;36m1\u001b[0m\u001b[0;34m,\u001b[0m \u001b[0;36m10\u001b[0m\u001b[0;34m,\u001b[0m \u001b[0;36m10\u001b[0m\u001b[0;34m,\u001b[0m \u001b[0;36m8\u001b[0m\u001b[0;34m,\u001b[0m \u001b[0;36m8\u001b[0m\u001b[0;34m,\u001b[0m \u001b[0;36m6\u001b[0m\u001b[0;34m,\u001b[0m \u001b[0;36m6\u001b[0m\u001b[0;34m,\u001b[0m \u001b[0;36m4\u001b[0m\u001b[0;34m,\u001b[0m \u001b[0;36m4\u001b[0m\u001b[0;34m,\u001b[0m \u001b[0;36m2\u001b[0m\u001b[0;34m,\u001b[0m \u001b[0;36m1\u001b[0m\u001b[0;34m]\u001b[0m\u001b[0;34m\u001b[0m\u001b[0;34m\u001b[0m\u001b[0m\n\u001b[0;32m----> 2\u001b[0;31m \u001b[0mparametros\u001b[0m\u001b[0;34m,\u001b[0m \u001b[0mcustos\u001b[0m \u001b[0;34m=\u001b[0m \u001b[0mfit\u001b[0m\u001b[0;34m(\u001b[0m\u001b[0mX_train\u001b[0m\u001b[0;34m,\u001b[0m \u001b[0my_train\u001b[0m\u001b[0;34m,\u001b[0m \u001b[0;36m0.05\u001b[0m\u001b[0;34m,\u001b[0m \u001b[0;36m200000\u001b[0m\u001b[0;34m,\u001b[0m \u001b[0mtamanho_layers\u001b[0m\u001b[0;34m)\u001b[0m\u001b[0;34m\u001b[0m\u001b[0;34m\u001b[0m\u001b[0m\n\u001b[0m",
      "\u001b[0;32m<ipython-input-110-f1580bed4747>\u001b[0m in \u001b[0;36mfit\u001b[0;34m(X, Y, taxa_aprenzido, iteracoes, tamanhos_layers)\u001b[0m\n\u001b[1;32m      4\u001b[0m     \u001b[0mcustos\u001b[0m \u001b[0;34m=\u001b[0m \u001b[0;34m[\u001b[0m\u001b[0;34m]\u001b[0m\u001b[0;34m\u001b[0m\u001b[0;34m\u001b[0m\u001b[0m\n\u001b[1;32m      5\u001b[0m     \u001b[0;32mfor\u001b[0m \u001b[0miteracao\u001b[0m \u001b[0;32min\u001b[0m \u001b[0mrange\u001b[0m\u001b[0;34m(\u001b[0m\u001b[0miteracoes\u001b[0m\u001b[0;34m)\u001b[0m\u001b[0;34m:\u001b[0m\u001b[0;34m\u001b[0m\u001b[0;34m\u001b[0m\u001b[0m\n\u001b[0;32m----> 6\u001b[0;31m         \u001b[0mA\u001b[0m\u001b[0;34m,\u001b[0m \u001b[0mcache\u001b[0m \u001b[0;34m=\u001b[0m \u001b[0mforward_propagation\u001b[0m\u001b[0;34m(\u001b[0m\u001b[0mX\u001b[0m\u001b[0;34m,\u001b[0m \u001b[0mparametros\u001b[0m\u001b[0;34m)\u001b[0m\u001b[0;34m\u001b[0m\u001b[0;34m\u001b[0m\u001b[0m\n\u001b[0m\u001b[1;32m      7\u001b[0m         \u001b[0mcusto\u001b[0m \u001b[0;34m=\u001b[0m \u001b[0mget_custo\u001b[0m\u001b[0;34m(\u001b[0m\u001b[0mA\u001b[0m\u001b[0;34m,\u001b[0m \u001b[0mY\u001b[0m\u001b[0;34m)\u001b[0m\u001b[0;34m\u001b[0m\u001b[0;34m\u001b[0m\u001b[0m\n\u001b[1;32m      8\u001b[0m         \u001b[0mcustos\u001b[0m\u001b[0;34m.\u001b[0m\u001b[0mappend\u001b[0m\u001b[0;34m(\u001b[0m\u001b[0mcusto\u001b[0m\u001b[0;34m)\u001b[0m\u001b[0;34m\u001b[0m\u001b[0;34m\u001b[0m\u001b[0m\n",
      "\u001b[0;32m<ipython-input-75-7266d725fa43>\u001b[0m in \u001b[0;36mforward_propagation\u001b[0;34m(X, parametros)\u001b[0m\n\u001b[1;32m      8\u001b[0m         \u001b[0mb\u001b[0m \u001b[0;34m=\u001b[0m \u001b[0mparametros\u001b[0m\u001b[0;34m[\u001b[0m\u001b[0mindice_layer\u001b[0m\u001b[0;34m]\u001b[0m\u001b[0;34m[\u001b[0m\u001b[0;36m1\u001b[0m\u001b[0;34m]\u001b[0m\u001b[0;34m\u001b[0m\u001b[0;34m\u001b[0m\u001b[0m\n\u001b[1;32m      9\u001b[0m         \u001b[0;31m#print(W.shape, A.shape)\u001b[0m\u001b[0;34m\u001b[0m\u001b[0;34m\u001b[0m\u001b[0;34m\u001b[0m\u001b[0m\n\u001b[0;32m---> 10\u001b[0;31m         \u001b[0mZ\u001b[0m \u001b[0;34m=\u001b[0m \u001b[0mnp\u001b[0m\u001b[0;34m.\u001b[0m\u001b[0mdot\u001b[0m\u001b[0;34m(\u001b[0m\u001b[0mW\u001b[0m\u001b[0;34m,\u001b[0m \u001b[0mA\u001b[0m\u001b[0;34m)\u001b[0m \u001b[0;34m+\u001b[0m \u001b[0mb\u001b[0m\u001b[0;34m\u001b[0m\u001b[0;34m\u001b[0m\u001b[0m\n\u001b[0m\u001b[1;32m     11\u001b[0m         \u001b[0mcache\u001b[0m\u001b[0;34m.\u001b[0m\u001b[0mappend\u001b[0m\u001b[0;34m(\u001b[0m\u001b[0;34m(\u001b[0m\u001b[0mA\u001b[0m\u001b[0;34m,\u001b[0m \u001b[0mZ\u001b[0m\u001b[0;34m,\u001b[0m \u001b[0mW\u001b[0m\u001b[0;34m,\u001b[0m \u001b[0mb\u001b[0m\u001b[0;34m)\u001b[0m\u001b[0;34m)\u001b[0m\u001b[0;34m\u001b[0m\u001b[0;34m\u001b[0m\u001b[0m\n\u001b[1;32m     12\u001b[0m         \u001b[0mA\u001b[0m \u001b[0;34m=\u001b[0m \u001b[0mrelu\u001b[0m\u001b[0;34m(\u001b[0m\u001b[0mZ\u001b[0m\u001b[0;34m)\u001b[0m\u001b[0;34m\u001b[0m\u001b[0;34m\u001b[0m\u001b[0m\n",
      "\u001b[0;31mKeyboardInterrupt\u001b[0m: "
     ]
    }
   ],
   "source": [
    "tamanho_layers = [len(df.columns)-1, 10, 10, 8, 8, 6, 6, 4, 4, 2, 1]\n",
    "parametros, custos = fit(X_train, y_train, 0.05, 200000, tamanho_layers)"
   ]
  },
  {
   "cell_type": "code",
   "execution_count": null,
   "metadata": {},
   "outputs": [],
   "source": []
  }
 ],
 "metadata": {
  "kernelspec": {
   "display_name": "Python 3",
   "language": "python",
   "name": "python3"
  },
  "language_info": {
   "codemirror_mode": {
    "name": "ipython",
    "version": 3
   },
   "file_extension": ".py",
   "mimetype": "text/x-python",
   "name": "python",
   "nbconvert_exporter": "python",
   "pygments_lexer": "ipython3",
   "version": "3.7.6"
  }
 },
 "nbformat": 4,
 "nbformat_minor": 2
}
