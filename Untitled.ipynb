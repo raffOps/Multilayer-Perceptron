{
 "cells": [
  {
   "cell_type": "code",
   "execution_count": 172,
   "metadata": {
    "ExecuteTime": {
     "end_time": "2020-03-11T22:27:46.686507Z",
     "start_time": "2020-03-11T22:27:46.683499Z"
    }
   },
   "outputs": [],
   "source": [
    "import numpy as np\n",
    "import pandas as pd\n",
    "import seaborn as sns\n",
    "from sklearn.preprocessing import MinMaxScaler, StandardScaler\n",
    "from sklearn.model_selection import train_test_split"
   ]
  },
  {
   "cell_type": "code",
   "execution_count": 173,
   "metadata": {
    "ExecuteTime": {
     "end_time": "2020-03-11T22:27:47.475691Z",
     "start_time": "2020-03-11T22:27:47.405422Z"
    }
   },
   "outputs": [
    {
     "data": {
      "text/html": [
       "<div>\n",
       "<style scoped>\n",
       "    .dataframe tbody tr th:only-of-type {\n",
       "        vertical-align: middle;\n",
       "    }\n",
       "\n",
       "    .dataframe tbody tr th {\n",
       "        vertical-align: top;\n",
       "    }\n",
       "\n",
       "    .dataframe thead th {\n",
       "        text-align: right;\n",
       "    }\n",
       "</style>\n",
       "<table border=\"1\" class=\"dataframe\">\n",
       "  <thead>\n",
       "    <tr style=\"text-align: right;\">\n",
       "      <th></th>\n",
       "      <th>age</th>\n",
       "      <th>gender</th>\n",
       "      <th>height</th>\n",
       "      <th>weight</th>\n",
       "      <th>ap_hi</th>\n",
       "      <th>ap_lo</th>\n",
       "      <th>cholesterol</th>\n",
       "      <th>gluc</th>\n",
       "      <th>smoke</th>\n",
       "      <th>alco</th>\n",
       "      <th>active</th>\n",
       "      <th>cardio</th>\n",
       "    </tr>\n",
       "    <tr>\n",
       "      <th>id</th>\n",
       "      <th></th>\n",
       "      <th></th>\n",
       "      <th></th>\n",
       "      <th></th>\n",
       "      <th></th>\n",
       "      <th></th>\n",
       "      <th></th>\n",
       "      <th></th>\n",
       "      <th></th>\n",
       "      <th></th>\n",
       "      <th></th>\n",
       "      <th></th>\n",
       "    </tr>\n",
       "  </thead>\n",
       "  <tbody>\n",
       "    <tr>\n",
       "      <th>0</th>\n",
       "      <td>18393</td>\n",
       "      <td>2</td>\n",
       "      <td>168</td>\n",
       "      <td>62.0</td>\n",
       "      <td>110</td>\n",
       "      <td>80</td>\n",
       "      <td>1</td>\n",
       "      <td>1</td>\n",
       "      <td>0</td>\n",
       "      <td>0</td>\n",
       "      <td>1</td>\n",
       "      <td>0</td>\n",
       "    </tr>\n",
       "    <tr>\n",
       "      <th>1</th>\n",
       "      <td>20228</td>\n",
       "      <td>1</td>\n",
       "      <td>156</td>\n",
       "      <td>85.0</td>\n",
       "      <td>140</td>\n",
       "      <td>90</td>\n",
       "      <td>3</td>\n",
       "      <td>1</td>\n",
       "      <td>0</td>\n",
       "      <td>0</td>\n",
       "      <td>1</td>\n",
       "      <td>1</td>\n",
       "    </tr>\n",
       "    <tr>\n",
       "      <th>2</th>\n",
       "      <td>18857</td>\n",
       "      <td>1</td>\n",
       "      <td>165</td>\n",
       "      <td>64.0</td>\n",
       "      <td>130</td>\n",
       "      <td>70</td>\n",
       "      <td>3</td>\n",
       "      <td>1</td>\n",
       "      <td>0</td>\n",
       "      <td>0</td>\n",
       "      <td>0</td>\n",
       "      <td>1</td>\n",
       "    </tr>\n",
       "    <tr>\n",
       "      <th>3</th>\n",
       "      <td>17623</td>\n",
       "      <td>2</td>\n",
       "      <td>169</td>\n",
       "      <td>82.0</td>\n",
       "      <td>150</td>\n",
       "      <td>100</td>\n",
       "      <td>1</td>\n",
       "      <td>1</td>\n",
       "      <td>0</td>\n",
       "      <td>0</td>\n",
       "      <td>1</td>\n",
       "      <td>1</td>\n",
       "    </tr>\n",
       "    <tr>\n",
       "      <th>4</th>\n",
       "      <td>17474</td>\n",
       "      <td>1</td>\n",
       "      <td>156</td>\n",
       "      <td>56.0</td>\n",
       "      <td>100</td>\n",
       "      <td>60</td>\n",
       "      <td>1</td>\n",
       "      <td>1</td>\n",
       "      <td>0</td>\n",
       "      <td>0</td>\n",
       "      <td>0</td>\n",
       "      <td>0</td>\n",
       "    </tr>\n",
       "  </tbody>\n",
       "</table>\n",
       "</div>"
      ],
      "text/plain": [
       "      age  gender  height  weight  ap_hi  ap_lo  cholesterol  gluc  smoke  \\\n",
       "id                                                                          \n",
       "0   18393       2     168    62.0    110     80            1     1      0   \n",
       "1   20228       1     156    85.0    140     90            3     1      0   \n",
       "2   18857       1     165    64.0    130     70            3     1      0   \n",
       "3   17623       2     169    82.0    150    100            1     1      0   \n",
       "4   17474       1     156    56.0    100     60            1     1      0   \n",
       "\n",
       "    alco  active  cardio  \n",
       "id                        \n",
       "0      0       1       0  \n",
       "1      0       1       1  \n",
       "2      0       0       1  \n",
       "3      0       1       1  \n",
       "4      0       0       0  "
      ]
     },
     "execution_count": 173,
     "metadata": {},
     "output_type": "execute_result"
    }
   ],
   "source": [
    "df = pd.read_csv(\"cardio_train.csv\", delimiter=\";\", index_col=0)\n",
    "df.head()"
   ]
  },
  {
   "cell_type": "code",
   "execution_count": 174,
   "metadata": {
    "ExecuteTime": {
     "end_time": "2020-03-11T22:27:52.212171Z",
     "start_time": "2020-03-11T22:27:52.055581Z"
    }
   },
   "outputs": [],
   "source": [
    "pcs = StandardScaler()\n",
    "variaveis_continuas = [\"age\", \"height\", \"weight\", \"ap_hi\", \"ap_lo\", \"cholesterol\"]\n",
    "\n",
    "df[variaveis_continuas] = pcs.fit_transform(df[variaveis_continuas])"
   ]
  },
  {
   "cell_type": "code",
   "execution_count": 175,
   "metadata": {
    "ExecuteTime": {
     "end_time": "2020-03-11T22:27:52.421907Z",
     "start_time": "2020-03-11T22:27:52.377632Z"
    }
   },
   "outputs": [
    {
     "data": {
      "text/plain": [
       "1    45530\n",
       "2    24470\n",
       "Name: gender, dtype: int64"
      ]
     },
     "execution_count": 175,
     "metadata": {},
     "output_type": "execute_result"
    }
   ],
   "source": [
    "df.gender.value_counts()"
   ]
  },
  {
   "cell_type": "code",
   "execution_count": 176,
   "metadata": {
    "ExecuteTime": {
     "end_time": "2020-03-11T22:27:53.740252Z",
     "start_time": "2020-03-11T22:27:53.716767Z"
    }
   },
   "outputs": [],
   "source": [
    "df.gender = df.gender.apply(lambda genero: 0 if genero == 2 else genero)"
   ]
  },
  {
   "cell_type": "code",
   "execution_count": 177,
   "metadata": {
    "ExecuteTime": {
     "end_time": "2020-03-11T22:27:54.061067Z",
     "start_time": "2020-03-11T22:27:54.053831Z"
    }
   },
   "outputs": [
    {
     "data": {
      "text/plain": [
       "Index(['age', 'gender', 'height', 'weight', 'ap_hi', 'ap_lo', 'cholesterol',\n",
       "       'gluc', 'smoke', 'alco', 'active', 'cardio'],\n",
       "      dtype='object')"
      ]
     },
     "execution_count": 177,
     "metadata": {},
     "output_type": "execute_result"
    }
   ],
   "source": [
    "df.columns"
   ]
  },
  {
   "cell_type": "code",
   "execution_count": 178,
   "metadata": {
    "ExecuteTime": {
     "end_time": "2020-03-11T22:27:54.441858Z",
     "start_time": "2020-03-11T22:27:54.423810Z"
    }
   },
   "outputs": [],
   "source": [
    "x, y = df.iloc[:,:-1].to_numpy(), df.iloc[:,-1].to_numpy()"
   ]
  },
  {
   "cell_type": "code",
   "execution_count": 179,
   "metadata": {
    "ExecuteTime": {
     "end_time": "2020-03-11T22:27:54.871618Z",
     "start_time": "2020-03-11T22:27:54.851398Z"
    }
   },
   "outputs": [],
   "source": [
    "X_train, X_test, y_train, y_test = train_test_split(x, y, test_size=0.2)\n",
    "X_train = X_train.T\n",
    "X_test = X_test.T\n",
    "y_train = y_train.reshape((1, X_train.shape[1]))\n",
    "y_test = y_test.reshape((1, X_test.shape[1]))"
   ]
  },
  {
   "cell_type": "markdown",
   "metadata": {},
   "source": [
    "### Cada layer terá uma matriz de pesos W e um vetor bias b associado. A dimensão da matriz W é definida com a quantidade de linhas sendo igual a quantidade de nodos no layer e a quantidade colunas como a quantidade de inputs do layer. O vetor bias terá um bias para cada nodo layer"
   ]
  },
  {
   "cell_type": "code",
   "execution_count": 180,
   "metadata": {
    "ExecuteTime": {
     "end_time": "2020-03-11T22:27:55.454181Z",
     "start_time": "2020-03-11T22:27:55.443441Z"
    }
   },
   "outputs": [],
   "source": [
    "def get_parametros_iniciais(tamanho_layers):\n",
    "    parametros = []\n",
    "    for indice in range(1,len(tamanho_layers)):\n",
    "        parametros.append([np.random.randn(tamanho_layers[indice], tamanho_layers[indice-1]) / np.sqrt(tamanho_layers[indice-1]),\n",
    "                           np.zeros((tamanho_layers[indice], 1))])\n",
    "    return parametros\n",
    "        "
   ]
  },
  {
   "cell_type": "markdown",
   "metadata": {},
   "source": [
    "### Definição das funções de ativação utilizadas: sigmóide e relu"
   ]
  },
  {
   "cell_type": "code",
   "execution_count": 181,
   "metadata": {
    "ExecuteTime": {
     "end_time": "2020-03-11T22:27:56.214142Z",
     "start_time": "2020-03-11T22:27:56.208684Z"
    }
   },
   "outputs": [],
   "source": [
    "def sigmoid(Z):\n",
    "    \"\"\"\n",
    "    Implements the sigmoid activation in numpy\n",
    "    \n",
    "    Arguments:\n",
    "    Z -- numpy array of any shape\n",
    "    \n",
    "    Returns:\n",
    "    A -- output of sigmoid(z), same shape as Z\n",
    "    cache -- returns Z as well, useful during backpropagation\n",
    "    \"\"\"\n",
    "    \n",
    "    A = 1/(1+np.exp(-Z))\n",
    "    \n",
    "    return A\n",
    "\n",
    "def relu(Z):\n",
    "    \"\"\"\n",
    "    Implement the RELU function.\n",
    "\n",
    "    Arguments:\n",
    "    Z -- Output of the linear layer, of any shape\n",
    "\n",
    "    Returns:\n",
    "    A -- Post-activation parameter, of the same shape as Z\n",
    "    cache -- a python dictionary containing \"A\" ; stored for computing the backward pass efficiently\n",
    "    \"\"\"\n",
    "    \n",
    "    A = np.maximum(0,Z)\n",
    "\n",
    "    return A"
   ]
  },
  {
   "cell_type": "markdown",
   "metadata": {
    "ExecuteTime": {
     "end_time": "2020-03-11T18:47:53.154687Z",
     "start_time": "2020-03-11T18:47:53.149470Z"
    }
   },
   "source": [
    "### Esquema forward propagation\n",
    "<img src=\"imagens/model_architecture_kiank.png\" style=\"width:600px;height:300px;\">"
   ]
  },
  {
   "cell_type": "code",
   "execution_count": 182,
   "metadata": {
    "ExecuteTime": {
     "end_time": "2020-03-11T22:27:57.092952Z",
     "start_time": "2020-03-11T22:27:57.087503Z"
    }
   },
   "outputs": [],
   "source": [
    "def forward_propagation(X, parametros):\n",
    "    cache = []\n",
    "    A = X\n",
    "    quantidade_layers = len(parametros)\n",
    "    for indice_layer in range(0, quantidade_layers-1): # foward propagation até o ultimo layer antes do layer output\n",
    "        #print(indice_layer)\n",
    "        W = parametros[indice_layer][0]\n",
    "        b = parametros[indice_layer][1]\n",
    "        #print(W.shape, A.shape)\n",
    "        Z = np.dot(W, A) + b\n",
    "        cache.append((A, Z, W, b))\n",
    "        A = relu(Z)\n",
    "    W, b = parametros[indice_layer+1] # como é um problema de classificao, o último layer deve obrigatoriamente ter\n",
    "                                      #  a funcao sigmoide como funcao de ativação\n",
    "    Z = np.dot(W, A) + b\n",
    "    cache.append((A, Z, W, b))\n",
    "    A = sigmoid(Z)\n",
    "    \n",
    "    return A, cache"
   ]
  },
  {
   "cell_type": "markdown",
   "metadata": {},
   "source": [
    "### A função custo usada aqui é definida como: $$-\\frac{1}{m} \\sum\\limits_{i = 1}^{m} (y^{(i)}\\log\\left(a^{[L] (i)}\\right) + (1-y^{(i)})\\log\\left(1- a^{[L](i)}\\right)) \\tag{7}$$"
   ]
  },
  {
   "cell_type": "code",
   "execution_count": 195,
   "metadata": {
    "ExecuteTime": {
     "end_time": "2020-03-11T22:42:55.407985Z",
     "start_time": "2020-03-11T22:42:55.404009Z"
    }
   },
   "outputs": [],
   "source": [
    "def get_custo(A, Y):    \n",
    "    m = Y.shape[1]\n",
    "    if 0 in A:\n",
    "        print(\"zerro\")\n",
    "    custo = (1./m) * (-np.dot(Y,np.log(A).T) - np.dot(1-Y, np.log(1-A).T))\n",
    "    custo = float(np.squeeze(custo))\n",
    "    return custo"
   ]
  },
  {
   "cell_type": "code",
   "execution_count": 196,
   "metadata": {
    "ExecuteTime": {
     "end_time": "2020-03-11T22:42:55.725145Z",
     "start_time": "2020-03-11T22:42:55.718502Z"
    }
   },
   "outputs": [],
   "source": [
    "tamanho_layers = [len(df.columns)-1, 6, 9, 5, 1]"
   ]
  },
  {
   "cell_type": "code",
   "execution_count": 197,
   "metadata": {
    "ExecuteTime": {
     "end_time": "2020-03-11T22:42:55.953574Z",
     "start_time": "2020-03-11T22:42:55.941277Z"
    }
   },
   "outputs": [],
   "source": [
    "parametros = get_parametros_iniciais(tamanho_layers)"
   ]
  },
  {
   "cell_type": "code",
   "execution_count": 198,
   "metadata": {
    "ExecuteTime": {
     "end_time": "2020-03-11T22:42:56.187344Z",
     "start_time": "2020-03-11T22:42:56.161218Z"
    }
   },
   "outputs": [],
   "source": [
    "A, cache = forward_propagation(X_train, parametros)"
   ]
  },
  {
   "cell_type": "code",
   "execution_count": 199,
   "metadata": {
    "ExecuteTime": {
     "end_time": "2020-03-11T22:42:56.367777Z",
     "start_time": "2020-03-11T22:42:56.362260Z"
    }
   },
   "outputs": [],
   "source": [
    "def derivada_relu(dA, Z):\n",
    "    dZ = np.array(dA, copy=True) \n",
    "    dZ[Z <= 0] = 0\n",
    "    return dZ\n",
    "\n",
    "def derivada_sigmoide(dA, Z):\n",
    "    s = 1/(1+np.exp(-Z))\n",
    "    dZ = dA * s * (1-s)    \n",
    "    return dZ"
   ]
  },
  {
   "cell_type": "code",
   "execution_count": 200,
   "metadata": {
    "ExecuteTime": {
     "end_time": "2020-03-11T22:42:56.606639Z",
     "start_time": "2020-03-11T22:42:56.584304Z"
    }
   },
   "outputs": [],
   "source": [
    "def backward_propagation(A, cache, Y):\n",
    "    L = len(cache)\n",
    "    m = A.shape[1]\n",
    "    Y = Y.reshape(A.shape)\n",
    "    gradientes = []\n",
    "    \n",
    "    dA = - (np.divide(Y, A) - np.divide(1 - Y, 1 - A)) # derivada do custo em função de A\n",
    "    A_prev, Z, W, b = cache[-1]\n",
    "    dZ = derivada_sigmoide(dA, Z)\n",
    "\n",
    "    dA_layer_antetior = np.dot(W.T, dZ)\n",
    "    dW = np.dot(dZ, A_prev.T) / m\n",
    "    db = np.sum(dZ, axis=1, keepdims=True) / m\n",
    "    gradientes.append([dW, db])\n",
    "    \n",
    "    \n",
    "    for l in (range(L-1))[::-1]:\n",
    "        dA = dA_layer_antetior\n",
    "        A_prev, Z, W, b = cache[l]\n",
    "        dZ = derivada_relu(dA, Z)\n",
    "\n",
    "        dA_layer_antetior = np.dot(W.T, dZ)\n",
    "        dW = np.dot(dZ, A_prev.T) / m\n",
    "        db = np.sum(dZ, axis=1, keepdims=True) / m\n",
    "        gradientes.append([dW, db])\n",
    "        \n",
    "    return gradientes[::-1]\n"
   ]
  },
  {
   "cell_type": "code",
   "execution_count": 201,
   "metadata": {
    "ExecuteTime": {
     "end_time": "2020-03-11T22:42:56.802733Z",
     "start_time": "2020-03-11T22:42:56.791913Z"
    }
   },
   "outputs": [],
   "source": [
    "def get_parametros_atualizados(parametros, gradientes, taxa_aprendizado=0.05):\n",
    "    L = len(parametros) // 2 \n",
    "    for l in range(L):\n",
    "        parametros[l][0] -= taxa_aprendizado * gradientes[l][0]\n",
    "        parametros[l][1] -= taxa_aprendizado * gradientes[l][1] \n",
    "    return parametros\n",
    "    "
   ]
  },
  {
   "cell_type": "code",
   "execution_count": 202,
   "metadata": {
    "ExecuteTime": {
     "end_time": "2020-03-11T22:42:57.016073Z",
     "start_time": "2020-03-11T22:42:57.003477Z"
    }
   },
   "outputs": [],
   "source": [
    "def fit(X, Y, taxa_aprenzido, iteracoes, tamanhos_layers):\n",
    "    parametros = get_parametros_iniciais(tamanho_layers)\n",
    "    custos = []\n",
    "    for iteracao in range(iteracoes):\n",
    "        A, cache = forward_propagation(X, parametros)\n",
    "        custo = get_custo(A, Y)\n",
    "        custos.append(custo)\n",
    "        if iteracao % 500 == 0:\n",
    "            print(\"Iteração: {} | Custo: {}\".format(iteracao, custo))\n",
    "        gradientes = backward_propagation(A, cache, Y)\n",
    "        parametros = get_parametros_atualizados(parametros, gradientes)\n",
    "    \n",
    "    return parametros, custos        "
   ]
  },
  {
   "cell_type": "code",
   "execution_count": null,
   "metadata": {
    "ExecuteTime": {
     "start_time": "2020-03-11T23:23:56.864Z"
    }
   },
   "outputs": [
    {
     "name": "stdout",
     "output_type": "stream",
     "text": [
      "Iteração: 0 | Custo: 0.682967428612059\n",
      "Iteração: 500 | Custo: 0.6508524270318279\n",
      "Iteração: 1000 | Custo: 0.6358181242398611\n",
      "Iteração: 1500 | Custo: 0.6277381268028981\n",
      "Iteração: 2000 | Custo: 0.6228577851669305\n",
      "Iteração: 2500 | Custo: 0.61860936440186\n",
      "Iteração: 3000 | Custo: 0.6135307064469336\n",
      "Iteração: 3500 | Custo: 0.6065810984652726\n",
      "Iteração: 4000 | Custo: 0.5975308866432035\n",
      "Iteração: 4500 | Custo: 0.5871197645545135\n",
      "Iteração: 5000 | Custo: 0.577556269047964\n",
      "Iteração: 5500 | Custo: 0.5708634571221979\n",
      "Iteração: 6000 | Custo: 0.5667742864382291\n",
      "Iteração: 6500 | Custo: 0.5643906721359322\n",
      "Iteração: 7000 | Custo: 0.5629800509610512\n",
      "Iteração: 7500 | Custo: 0.5620852959162785\n",
      "Iteração: 8000 | Custo: 0.5614851353961605\n",
      "Iteração: 8500 | Custo: 0.5610403774774394\n",
      "Iteração: 9000 | Custo: 0.5607041799786514\n",
      "Iteração: 9500 | Custo: 0.5604388661334169\n",
      "Iteração: 10000 | Custo: 0.5602071194223978\n",
      "Iteração: 10500 | Custo: 0.5600097009217639\n",
      "Iteração: 11000 | Custo: 0.5598379914668934\n",
      "Iteração: 11500 | Custo: 0.5596783237901721\n",
      "Iteração: 12000 | Custo: 0.5595287247580044\n",
      "Iteração: 12500 | Custo: 0.5593820010386169\n",
      "Iteração: 13000 | Custo: 0.5592486061200982\n",
      "Iteração: 13500 | Custo: 0.5591205525239467\n",
      "Iteração: 14000 | Custo: 0.5589883775170875\n",
      "Iteração: 14500 | Custo: 0.5588669426244923\n",
      "Iteração: 15000 | Custo: 0.5587524892900925\n",
      "Iteração: 15500 | Custo: 0.5586460308353591\n",
      "Iteração: 16000 | Custo: 0.5585460870463808\n",
      "Iteração: 16500 | Custo: 0.5584456954455372\n",
      "Iteração: 17000 | Custo: 0.5583506082488908\n",
      "Iteração: 17500 | Custo: 0.5582573730812835\n",
      "Iteração: 18000 | Custo: 0.5581655666940046\n",
      "Iteração: 18500 | Custo: 0.5580778703045145\n",
      "Iteração: 19000 | Custo: 0.5579946039360397\n",
      "Iteração: 19500 | Custo: 0.5579104619361612\n",
      "Iteração: 20000 | Custo: 0.5578253700133251\n",
      "Iteração: 20500 | Custo: 0.5577425319145757\n",
      "Iteração: 21000 | Custo: 0.5576639546843947\n",
      "Iteração: 21500 | Custo: 0.5575903203865653\n",
      "Iteração: 22000 | Custo: 0.5575187592004033\n",
      "Iteração: 22500 | Custo: 0.557450659320097\n",
      "Iteração: 23000 | Custo: 0.5573828859636656\n",
      "Iteração: 23500 | Custo: 0.5573173928307417\n",
      "Iteração: 24000 | Custo: 0.5572529348158096\n",
      "Iteração: 24500 | Custo: 0.5571848962961109\n",
      "Iteração: 25000 | Custo: 0.5571112909212199\n",
      "Iteração: 25500 | Custo: 0.5570402563988652\n",
      "Iteração: 26000 | Custo: 0.5569669456065116\n",
      "Iteração: 26500 | Custo: 0.556890526927005\n",
      "Iteração: 27000 | Custo: 0.5568182030511636\n",
      "Iteração: 27500 | Custo: 0.5567453489154893\n",
      "Iteração: 28000 | Custo: 0.5566756616659434\n",
      "Iteração: 28500 | Custo: 0.5566067928912953\n",
      "Iteração: 29000 | Custo: 0.5565411689980867\n",
      "Iteração: 29500 | Custo: 0.5564754699046093\n",
      "Iteração: 30000 | Custo: 0.5564046885739725\n",
      "Iteração: 30500 | Custo: 0.5563336023393792\n",
      "Iteração: 31000 | Custo: 0.556261014403355\n",
      "Iteração: 31500 | Custo: 0.5561860711424133\n",
      "Iteração: 32000 | Custo: 0.5561118921204341\n",
      "Iteração: 32500 | Custo: 0.5560391355203685\n",
      "Iteração: 33000 | Custo: 0.5559645423635814\n",
      "Iteração: 33500 | Custo: 0.5558857323021849\n",
      "Iteração: 34000 | Custo: 0.5558016701701807\n",
      "Iteração: 34500 | Custo: 0.5557192598088901\n",
      "Iteração: 35000 | Custo: 0.5556356188801649\n",
      "Iteração: 35500 | Custo: 0.5555426894499506\n",
      "Iteração: 36000 | Custo: 0.5554501914963429\n",
      "Iteração: 36500 | Custo: 0.5553597729928248\n",
      "Iteração: 37000 | Custo: 0.5552722600381723\n",
      "Iteração: 37500 | Custo: 0.5551823392196162\n",
      "Iteração: 38000 | Custo: 0.555091451922097\n",
      "Iteração: 38500 | Custo: 0.5549989350808839\n",
      "Iteração: 39000 | Custo: 0.5549019093808982\n",
      "Iteração: 39500 | Custo: 0.5547950805540017\n",
      "Iteração: 40000 | Custo: 0.5546759088895845\n",
      "Iteração: 40500 | Custo: 0.5545470681916507\n",
      "Iteração: 41000 | Custo: 0.5544105262574655\n",
      "Iteração: 41500 | Custo: 0.5542739881937951\n",
      "Iteração: 42000 | Custo: 0.5541280928849756\n",
      "Iteração: 42500 | Custo: 0.5539744721319994\n",
      "Iteração: 43000 | Custo: 0.5537964247396382\n",
      "Iteração: 43500 | Custo: 0.5535971645317422\n",
      "Iteração: 44000 | Custo: 0.5533676601426365\n",
      "Iteração: 44500 | Custo: 0.5531215039494721\n",
      "Iteração: 45000 | Custo: 0.552876001279073\n",
      "Iteração: 45500 | Custo: 0.5526433136973506\n",
      "Iteração: 46000 | Custo: 0.5524425777742333\n",
      "Iteração: 46500 | Custo: 0.5522577673820558\n",
      "Iteração: 47000 | Custo: 0.5520651261670708\n",
      "Iteração: 47500 | Custo: 0.551873794237433\n",
      "Iteração: 48000 | Custo: 0.5516856928188805\n",
      "Iteração: 48500 | Custo: 0.5514946979988499\n",
      "Iteração: 49000 | Custo: 0.5513046394623425\n",
      "Iteração: 49500 | Custo: 0.5511137970397314\n",
      "Iteração: 50000 | Custo: 0.5509164162828849\n",
      "Iteração: 50500 | Custo: 0.5507118812427197\n",
      "Iteração: 51000 | Custo: 0.5505120409304524\n",
      "Iteração: 51500 | Custo: 0.5503319999038511\n",
      "Iteração: 52000 | Custo: 0.5501564468508691\n",
      "Iteração: 52500 | Custo: 0.5499821225588816\n",
      "Iteração: 53000 | Custo: 0.5498055544009345\n",
      "Iteração: 53500 | Custo: 0.549632673403612\n",
      "Iteração: 54000 | Custo: 0.5494636479401802\n",
      "Iteração: 54500 | Custo: 0.5492967312140669\n",
      "Iteração: 55000 | Custo: 0.5491297682562355\n",
      "Iteração: 55500 | Custo: 0.548963641379746\n",
      "Iteração: 56000 | Custo: 0.5488012833927276\n",
      "Iteração: 56500 | Custo: 0.5486452482200993\n",
      "Iteração: 57000 | Custo: 0.5484898265614021\n",
      "Iteração: 57500 | Custo: 0.5483352367521366\n",
      "Iteração: 58000 | Custo: 0.5481823757637589\n",
      "Iteração: 58500 | Custo: 0.548017513524714\n",
      "Iteração: 59000 | Custo: 0.5478523874757201\n",
      "Iteração: 59500 | Custo: 0.5476870755228817\n",
      "Iteração: 60000 | Custo: 0.54752524297157\n",
      "Iteração: 60500 | Custo: 0.5473674941609733\n",
      "Iteração: 61000 | Custo: 0.5472113378740844\n",
      "Iteração: 61500 | Custo: 0.5470610490911928\n",
      "Iteração: 62000 | Custo: 0.5469140413634397\n",
      "Iteração: 62500 | Custo: 0.5467682369969556\n",
      "Iteração: 63000 | Custo: 0.546623256462285\n",
      "Iteração: 63500 | Custo: 0.546481190460491\n",
      "Iteração: 64000 | Custo: 0.5463394145339808\n",
      "Iteração: 64500 | Custo: 0.5462023845604409\n",
      "Iteração: 65000 | Custo: 0.5460702398655479\n",
      "Iteração: 65500 | Custo: 0.5459436855845466\n",
      "Iteração: 66000 | Custo: 0.5458203706769055\n",
      "Iteração: 66500 | Custo: 0.5457011025644454\n",
      "Iteração: 67000 | Custo: 0.5455844768706337\n",
      "Iteração: 67500 | Custo: 0.5454763174033929\n",
      "Iteração: 68000 | Custo: 0.54537380968801\n",
      "Iteração: 68500 | Custo: 0.5452728068865984\n",
      "Iteração: 69000 | Custo: 0.5451742266138717\n",
      "Iteração: 69500 | Custo: 0.545075939818333\n",
      "Iteração: 70000 | Custo: 0.5449812822429774\n",
      "Iteração: 70500 | Custo: 0.5448871824686154\n",
      "Iteração: 71000 | Custo: 0.5447951631195013\n",
      "Iteração: 71500 | Custo: 0.5447058887481478\n",
      "Iteração: 72000 | Custo: 0.5446168119472236\n",
      "Iteração: 72500 | Custo: 0.5445303565713566\n",
      "Iteração: 73000 | Custo: 0.5444452485106213\n",
      "Iteração: 73500 | Custo: 0.5443624712742625\n",
      "Iteração: 74000 | Custo: 0.5442836786753972\n",
      "Iteração: 74500 | Custo: 0.5442076823421974\n",
      "Iteração: 75000 | Custo: 0.5441338423105765\n",
      "Iteração: 75500 | Custo: 0.5440622035167274\n",
      "Iteração: 76000 | Custo: 0.5439931214877712\n",
      "Iteração: 76500 | Custo: 0.5439257877390783\n",
      "Iteração: 77000 | Custo: 0.5438603521370177\n",
      "Iteração: 77500 | Custo: 0.5437966015889142\n",
      "Iteração: 78000 | Custo: 0.5437354983312354\n",
      "Iteração: 78500 | Custo: 0.5436760732166902\n",
      "Iteração: 79000 | Custo: 0.5436166313242587\n",
      "Iteração: 79500 | Custo: 0.5435579040182448\n",
      "Iteração: 80000 | Custo: 0.5434999380794233\n",
      "Iteração: 80500 | Custo: 0.5434424150261972\n",
      "Iteração: 81000 | Custo: 0.543385950209231\n",
      "Iteração: 81500 | Custo: 0.5433301900689652\n",
      "Iteração: 82000 | Custo: 0.5432763769810346\n",
      "Iteração: 82500 | Custo: 0.5432212182862787\n",
      "Iteração: 83000 | Custo: 0.5431682350124696\n",
      "Iteração: 83500 | Custo: 0.5431185507322859\n",
      "Iteração: 84000 | Custo: 0.5430694379548028\n",
      "Iteração: 84500 | Custo: 0.543022440969901\n",
      "Iteração: 85000 | Custo: 0.5429775266549381\n",
      "Iteração: 85500 | Custo: 0.5429337075630547\n",
      "Iteração: 86000 | Custo: 0.5428887075300365\n",
      "Iteração: 86500 | Custo: 0.5428458981685111\n",
      "Iteração: 87000 | Custo: 0.5428031643985853\n",
      "Iteração: 87500 | Custo: 0.5427577494926429\n",
      "Iteração: 88000 | Custo: 0.5427135831185608\n",
      "Iteração: 88500 | Custo: 0.5426734644098153\n",
      "Iteração: 89000 | Custo: 0.5426359684238433\n",
      "Iteração: 89500 | Custo: 0.5425993978516057\n",
      "Iteração: 90000 | Custo: 0.5425637671678635\n",
      "Iteração: 90500 | Custo: 0.5425287226947832\n",
      "Iteração: 91000 | Custo: 0.5424944773264624\n",
      "Iteração: 91500 | Custo: 0.5424604677348349\n",
      "Iteração: 92000 | Custo: 0.5424275861277661\n",
      "Iteração: 92500 | Custo: 0.5423955271774391\n",
      "Iteração: 93000 | Custo: 0.5423642796670548\n",
      "Iteração: 93500 | Custo: 0.5423318834721819\n"
     ]
    },
    {
     "name": "stdout",
     "output_type": "stream",
     "text": [
      "Iteração: 94000 | Custo: 0.5422969742002514\n",
      "Iteração: 94500 | Custo: 0.5422613113009322\n",
      "Iteração: 95000 | Custo: 0.5422264424115534\n",
      "Iteração: 95500 | Custo: 0.5421928791648126\n",
      "Iteração: 96000 | Custo: 0.5421638740580637\n",
      "Iteração: 96500 | Custo: 0.5421365454680108\n",
      "Iteração: 97000 | Custo: 0.5421113055008847\n",
      "Iteração: 97500 | Custo: 0.5420872234113716\n",
      "Iteração: 98000 | Custo: 0.5420643468314971\n",
      "Iteração: 98500 | Custo: 0.5420412488084957\n",
      "Iteração: 99000 | Custo: 0.5420191523604351\n",
      "Iteração: 99500 | Custo: 0.5419965309425318\n",
      "Iteração: 100000 | Custo: 0.5419742029051124\n",
      "Iteração: 100500 | Custo: 0.5419518125056642\n",
      "Iteração: 101000 | Custo: 0.5419294808588868\n",
      "Iteração: 101500 | Custo: 0.5419064120552983\n",
      "Iteração: 102000 | Custo: 0.5418850794710303\n",
      "Iteração: 102500 | Custo: 0.5418626402336031\n",
      "Iteração: 103000 | Custo: 0.5418404651988937\n",
      "Iteração: 103500 | Custo: 0.5418192957809191\n",
      "Iteração: 104000 | Custo: 0.5417990723804947\n",
      "Iteração: 104500 | Custo: 0.5417791802029605\n",
      "Iteração: 105000 | Custo: 0.5417609176459236\n",
      "Iteração: 105500 | Custo: 0.5417439834203424\n",
      "Iteração: 106000 | Custo: 0.5417278130898884\n",
      "Iteração: 106500 | Custo: 0.5417121548432338\n",
      "Iteração: 107000 | Custo: 0.5416967683581412\n",
      "Iteração: 107500 | Custo: 0.541679317453909\n",
      "Iteração: 108000 | Custo: 0.5416631664464782\n",
      "Iteração: 108500 | Custo: 0.5416472630107737\n",
      "Iteração: 109000 | Custo: 0.5416319302923733\n",
      "Iteração: 109500 | Custo: 0.5416166738293987\n",
      "Iteração: 110000 | Custo: 0.5416024251388908\n",
      "Iteração: 110500 | Custo: 0.541588512324619\n",
      "Iteração: 111000 | Custo: 0.5415747139212219\n",
      "Iteração: 111500 | Custo: 0.5415605530957716\n",
      "Iteração: 112000 | Custo: 0.5415470768169901\n",
      "Iteração: 112500 | Custo: 0.5415341852472324\n",
      "Iteração: 113000 | Custo: 0.5415210797349529\n",
      "Iteração: 113500 | Custo: 0.5415081698258434\n",
      "Iteração: 114000 | Custo: 0.5414948987793755\n",
      "Iteração: 114500 | Custo: 0.5414821223057754\n",
      "Iteração: 115000 | Custo: 0.5414698432185897\n",
      "Iteração: 115500 | Custo: 0.5414572331846482\n",
      "Iteração: 116000 | Custo: 0.5414448669137744\n",
      "Iteração: 116500 | Custo: 0.5414331319249784\n",
      "Iteração: 117000 | Custo: 0.5414222529020495\n",
      "Iteração: 117500 | Custo: 0.5414118762537294\n",
      "Iteração: 118000 | Custo: 0.5414005993874771\n",
      "Iteração: 118500 | Custo: 0.5413904822532183\n",
      "Iteração: 119000 | Custo: 0.5413807301815355\n",
      "Iteração: 119500 | Custo: 0.5413710819325026\n",
      "Iteração: 120000 | Custo: 0.5413611083090812\n",
      "Iteração: 120500 | Custo: 0.5413486081510708\n",
      "Iteração: 121000 | Custo: 0.5413359449311034\n",
      "Iteração: 121500 | Custo: 0.5413200767628547\n",
      "Iteração: 122000 | Custo: 0.5413073237626702\n",
      "Iteração: 122500 | Custo: 0.5412962257502908\n",
      "Iteração: 123000 | Custo: 0.5412825853144086\n",
      "Iteração: 123500 | Custo: 0.5412714128742843\n",
      "Iteração: 124000 | Custo: 0.5412614853683074\n",
      "Iteração: 124500 | Custo: 0.541251076015304\n",
      "Iteração: 125000 | Custo: 0.541239704112242\n",
      "Iteração: 125500 | Custo: 0.5412306064537502\n",
      "Iteração: 126000 | Custo: 0.5412223454311833\n",
      "Iteração: 126500 | Custo: 0.5412142347132094\n",
      "Iteração: 127000 | Custo: 0.5412065384016893\n",
      "Iteração: 127500 | Custo: 0.5411973246869476\n",
      "Iteração: 128000 | Custo: 0.5411887620047384\n",
      "Iteração: 128500 | Custo: 0.5411812818257953\n",
      "Iteração: 129000 | Custo: 0.5411743455704486\n",
      "Iteração: 129500 | Custo: 0.5411665153766229\n",
      "Iteração: 130000 | Custo: 0.5411583954788636\n",
      "Iteração: 130500 | Custo: 0.5411509096000569\n",
      "Iteração: 131000 | Custo: 0.5411421165018354\n",
      "Iteração: 131500 | Custo: 0.5411294326620996\n",
      "Iteração: 132000 | Custo: 0.5411189282017648\n",
      "Iteração: 132500 | Custo: 0.5411097820917157\n",
      "Iteração: 133000 | Custo: 0.5411013638081237\n",
      "Iteração: 133500 | Custo: 0.541093494580474\n",
      "Iteração: 134000 | Custo: 0.5410858070255191\n",
      "Iteração: 134500 | Custo: 0.5410788112393657\n",
      "Iteração: 135000 | Custo: 0.5410717903624469\n",
      "Iteração: 135500 | Custo: 0.5410638314474779\n",
      "Iteração: 136000 | Custo: 0.5410565506364027\n",
      "Iteração: 136500 | Custo: 0.541050166492613\n",
      "Iteração: 137000 | Custo: 0.5410436556101085\n",
      "Iteração: 137500 | Custo: 0.5410375191323129\n",
      "Iteração: 138000 | Custo: 0.5410312440423941\n",
      "Iteração: 138500 | Custo: 0.5410256272922791\n",
      "Iteração: 139000 | Custo: 0.5410201211059494\n",
      "Iteração: 139500 | Custo: 0.5410145465901615\n",
      "Iteração: 140000 | Custo: 0.5410088806111681\n",
      "Iteração: 140500 | Custo: 0.5410032251019264\n",
      "Iteração: 141000 | Custo: 0.5409965137165241\n",
      "Iteração: 141500 | Custo: 0.5409911039163804\n",
      "Iteração: 142000 | Custo: 0.5409860688402595\n",
      "Iteração: 142500 | Custo: 0.5409810399900152\n",
      "Iteração: 143000 | Custo: 0.5409753481801632\n",
      "Iteração: 143500 | Custo: 0.5409698036783286\n",
      "Iteração: 144000 | Custo: 0.5409648433753367\n",
      "Iteração: 144500 | Custo: 0.5409601019238174\n",
      "Iteração: 145000 | Custo: 0.5409554836625184\n",
      "Iteração: 145500 | Custo: 0.5409509974811528\n",
      "Iteração: 146000 | Custo: 0.5409466302542151\n",
      "Iteração: 146500 | Custo: 0.5409423609747496\n",
      "Iteração: 147000 | Custo: 0.5409381849002225\n",
      "Iteração: 147500 | Custo: 0.540933684434298\n",
      "Iteração: 148000 | Custo: 0.5409296613895291\n",
      "Iteração: 148500 | Custo: 0.5409255000158173\n",
      "Iteração: 149000 | Custo: 0.5409216256998568\n",
      "Iteração: 149500 | Custo: 0.5409178101886795\n",
      "Iteração: 150000 | Custo: 0.5409138165907146\n",
      "Iteração: 150500 | Custo: 0.5409096904918423\n",
      "Iteração: 151000 | Custo: 0.5409054547571462\n",
      "Iteração: 151500 | Custo: 0.5409011336935143\n",
      "Iteração: 152000 | Custo: 0.5408956502033646\n",
      "Iteração: 152500 | Custo: 0.5408891304717875\n",
      "Iteração: 153000 | Custo: 0.5408822850033135\n",
      "Iteração: 153500 | Custo: 0.5408756036575517\n",
      "Iteração: 154000 | Custo: 0.5408680986330207\n",
      "Iteração: 154500 | Custo: 0.5408602141619946\n",
      "Iteração: 155000 | Custo: 0.5408526181455137\n",
      "Iteração: 155500 | Custo: 0.5408461780778554\n",
      "Iteração: 156000 | Custo: 0.5408400751956524\n",
      "Iteração: 156500 | Custo: 0.540835048087419\n",
      "Iteração: 157000 | Custo: 0.5408303151670474\n",
      "Iteração: 157500 | Custo: 0.5408262533007812\n",
      "Iteração: 158000 | Custo: 0.5408224669712598\n",
      "Iteração: 158500 | Custo: 0.5408186637672967\n",
      "Iteração: 159000 | Custo: 0.5408152484391492\n",
      "Iteração: 159500 | Custo: 0.5408118468941077\n",
      "Iteração: 160000 | Custo: 0.5408082717793058\n",
      "Iteração: 160500 | Custo: 0.5408049653362837\n",
      "Iteração: 161000 | Custo: 0.5408016974833564\n",
      "Iteração: 161500 | Custo: 0.5407984693103649\n",
      "Iteração: 162000 | Custo: 0.5407951243992607\n",
      "Iteração: 162500 | Custo: 0.5407920226535067\n",
      "Iteração: 163000 | Custo: 0.5407885184092397\n",
      "Iteração: 163500 | Custo: 0.5407852664009031\n",
      "Iteração: 164000 | Custo: 0.5407820512287825\n",
      "Iteração: 164500 | Custo: 0.5407790804716792\n",
      "Iteração: 165000 | Custo: 0.5407762533309192\n",
      "Iteração: 165500 | Custo: 0.5407734971927072\n",
      "Iteração: 166000 | Custo: 0.5407707958304753\n",
      "Iteração: 166500 | Custo: 0.5407680368220708\n",
      "Iteração: 167000 | Custo: 0.5407655164328771\n",
      "Iteração: 167500 | Custo: 0.5407631097210649\n",
      "Iteração: 168000 | Custo: 0.5407606407779418\n",
      "Iteração: 168500 | Custo: 0.5407582101479294\n",
      "Iteração: 169000 | Custo: 0.5407557982333321\n",
      "Iteração: 169500 | Custo: 0.5407534964543665\n",
      "Iteração: 170000 | Custo: 0.5407512508606471\n",
      "Iteração: 170500 | Custo: 0.5407490866779417\n",
      "Iteração: 171000 | Custo: 0.5407469048969823\n",
      "Iteração: 171500 | Custo: 0.5407446534114367\n",
      "Iteração: 172000 | Custo: 0.5407425396080612\n",
      "Iteração: 172500 | Custo: 0.5407403725535836\n",
      "Iteração: 173000 | Custo: 0.5407382526767379\n",
      "Iteração: 173500 | Custo: 0.5407362089989683\n",
      "Iteração: 174000 | Custo: 0.5407342921940432\n",
      "Iteração: 174500 | Custo: 0.5407323058020091\n",
      "Iteração: 175000 | Custo: 0.540730207481351\n",
      "Iteração: 175500 | Custo: 0.5407277250433523\n",
      "Iteração: 176000 | Custo: 0.5407257164427879\n",
      "Iteração: 176500 | Custo: 0.5407237489108562\n",
      "Iteração: 177000 | Custo: 0.5407219289561336\n",
      "Iteração: 177500 | Custo: 0.5407202918324233\n",
      "Iteração: 178000 | Custo: 0.5407186732560071\n",
      "Iteração: 178500 | Custo: 0.5407171691698809\n",
      "Iteração: 179000 | Custo: 0.5407156925544557\n",
      "Iteração: 179500 | Custo: 0.5407142758386166\n",
      "Iteração: 180000 | Custo: 0.5407129090236372\n",
      "Iteração: 180500 | Custo: 0.5407116438432752\n",
      "Iteração: 181000 | Custo: 0.5407104354519248\n",
      "Iteração: 181500 | Custo: 0.5407091704001272\n",
      "Iteração: 182000 | Custo: 0.5407079301379901\n",
      "Iteração: 182500 | Custo: 0.540706688002703\n",
      "Iteração: 183000 | Custo: 0.5407054278678483\n",
      "Iteração: 183500 | Custo: 0.5407041753251643\n",
      "Iteração: 184000 | Custo: 0.5407029211444715\n",
      "Iteração: 184500 | Custo: 0.5407014856935943\n",
      "Iteração: 185000 | Custo: 0.5407002127953465\n"
     ]
    }
   ],
   "source": [
    "tamanho_layers = [len(df.columns)-1, 8, 4, 2, 1]\n",
    "parametros, custos = fit(X_train, y_train, 0.05, 200000, tamanho_layers)"
   ]
  },
  {
   "cell_type": "code",
   "execution_count": null,
   "metadata": {},
   "outputs": [],
   "source": []
  }
 ],
 "metadata": {
  "kernelspec": {
   "display_name": "Python 3",
   "language": "python",
   "name": "python3"
  },
  "language_info": {
   "codemirror_mode": {
    "name": "ipython",
    "version": 3
   },
   "file_extension": ".py",
   "mimetype": "text/x-python",
   "name": "python",
   "nbconvert_exporter": "python",
   "pygments_lexer": "ipython3",
   "version": "3.7.6"
  }
 },
 "nbformat": 4,
 "nbformat_minor": 2
}
