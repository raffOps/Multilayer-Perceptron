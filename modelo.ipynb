{
 "cells": [
  {
   "cell_type": "code",
   "execution_count": 1,
   "metadata": {
    "ExecuteTime": {
     "end_time": "2020-04-13T18:23:53.896546Z",
     "start_time": "2020-04-13T18:23:53.263986Z"
    }
   },
   "outputs": [],
   "source": [
    "import numpy as np\n",
    "import pandas as pd\n",
    "import seaborn as sns\n",
    "from sklearn.preprocessing import MinMaxScaler, StandardScaler\n",
    "from sklearn.model_selection import train_test_split, GridSearchCV\n",
    "from sklearn.metrics import f1_score, accuracy_score, confusion_matrix\n",
    "from matplotlib import pyplot as plt\n",
    "import warnings\n",
    "warnings.filterwarnings('ignore')"
   ]
  },
  {
   "cell_type": "code",
   "execution_count": 3,
   "metadata": {
    "ExecuteTime": {
     "end_time": "2020-04-13T18:24:17.942995Z",
     "start_time": "2020-04-13T18:24:17.873932Z"
    }
   },
   "outputs": [
    {
     "data": {
      "text/html": [
       "<div>\n",
       "<style scoped>\n",
       "    .dataframe tbody tr th:only-of-type {\n",
       "        vertical-align: middle;\n",
       "    }\n",
       "\n",
       "    .dataframe tbody tr th {\n",
       "        vertical-align: top;\n",
       "    }\n",
       "\n",
       "    .dataframe thead th {\n",
       "        text-align: right;\n",
       "    }\n",
       "</style>\n",
       "<table border=\"1\" class=\"dataframe\">\n",
       "  <thead>\n",
       "    <tr style=\"text-align: right;\">\n",
       "      <th></th>\n",
       "      <th>age</th>\n",
       "      <th>gender</th>\n",
       "      <th>height</th>\n",
       "      <th>weight</th>\n",
       "      <th>ap_hi</th>\n",
       "      <th>ap_lo</th>\n",
       "      <th>cholesterol</th>\n",
       "      <th>gluc</th>\n",
       "      <th>smoke</th>\n",
       "      <th>alco</th>\n",
       "      <th>active</th>\n",
       "      <th>cardio</th>\n",
       "    </tr>\n",
       "    <tr>\n",
       "      <th>id</th>\n",
       "      <th></th>\n",
       "      <th></th>\n",
       "      <th></th>\n",
       "      <th></th>\n",
       "      <th></th>\n",
       "      <th></th>\n",
       "      <th></th>\n",
       "      <th></th>\n",
       "      <th></th>\n",
       "      <th></th>\n",
       "      <th></th>\n",
       "      <th></th>\n",
       "    </tr>\n",
       "  </thead>\n",
       "  <tbody>\n",
       "    <tr>\n",
       "      <th>0</th>\n",
       "      <td>18393</td>\n",
       "      <td>2</td>\n",
       "      <td>168</td>\n",
       "      <td>62.0</td>\n",
       "      <td>110</td>\n",
       "      <td>80</td>\n",
       "      <td>1</td>\n",
       "      <td>1</td>\n",
       "      <td>0</td>\n",
       "      <td>0</td>\n",
       "      <td>1</td>\n",
       "      <td>0</td>\n",
       "    </tr>\n",
       "    <tr>\n",
       "      <th>1</th>\n",
       "      <td>20228</td>\n",
       "      <td>1</td>\n",
       "      <td>156</td>\n",
       "      <td>85.0</td>\n",
       "      <td>140</td>\n",
       "      <td>90</td>\n",
       "      <td>3</td>\n",
       "      <td>1</td>\n",
       "      <td>0</td>\n",
       "      <td>0</td>\n",
       "      <td>1</td>\n",
       "      <td>1</td>\n",
       "    </tr>\n",
       "    <tr>\n",
       "      <th>2</th>\n",
       "      <td>18857</td>\n",
       "      <td>1</td>\n",
       "      <td>165</td>\n",
       "      <td>64.0</td>\n",
       "      <td>130</td>\n",
       "      <td>70</td>\n",
       "      <td>3</td>\n",
       "      <td>1</td>\n",
       "      <td>0</td>\n",
       "      <td>0</td>\n",
       "      <td>0</td>\n",
       "      <td>1</td>\n",
       "    </tr>\n",
       "    <tr>\n",
       "      <th>3</th>\n",
       "      <td>17623</td>\n",
       "      <td>2</td>\n",
       "      <td>169</td>\n",
       "      <td>82.0</td>\n",
       "      <td>150</td>\n",
       "      <td>100</td>\n",
       "      <td>1</td>\n",
       "      <td>1</td>\n",
       "      <td>0</td>\n",
       "      <td>0</td>\n",
       "      <td>1</td>\n",
       "      <td>1</td>\n",
       "    </tr>\n",
       "    <tr>\n",
       "      <th>4</th>\n",
       "      <td>17474</td>\n",
       "      <td>1</td>\n",
       "      <td>156</td>\n",
       "      <td>56.0</td>\n",
       "      <td>100</td>\n",
       "      <td>60</td>\n",
       "      <td>1</td>\n",
       "      <td>1</td>\n",
       "      <td>0</td>\n",
       "      <td>0</td>\n",
       "      <td>0</td>\n",
       "      <td>0</td>\n",
       "    </tr>\n",
       "  </tbody>\n",
       "</table>\n",
       "</div>"
      ],
      "text/plain": [
       "      age  gender  height  weight  ap_hi  ap_lo  cholesterol  gluc  smoke  \\\n",
       "id                                                                          \n",
       "0   18393       2     168    62.0    110     80            1     1      0   \n",
       "1   20228       1     156    85.0    140     90            3     1      0   \n",
       "2   18857       1     165    64.0    130     70            3     1      0   \n",
       "3   17623       2     169    82.0    150    100            1     1      0   \n",
       "4   17474       1     156    56.0    100     60            1     1      0   \n",
       "\n",
       "    alco  active  cardio  \n",
       "id                        \n",
       "0      0       1       0  \n",
       "1      0       1       1  \n",
       "2      0       0       1  \n",
       "3      0       1       1  \n",
       "4      0       0       0  "
      ]
     },
     "execution_count": 3,
     "metadata": {},
     "output_type": "execute_result"
    }
   ],
   "source": [
    "df = pd.read_csv(\"cardio_train.csv\", delimiter=\";\", index_col=0)\n",
    "df.head()"
   ]
  },
  {
   "cell_type": "markdown",
   "metadata": {},
   "source": [
    "### Dados limpos, sem valores faltantes. Todas as features são numéricas"
   ]
  },
  {
   "cell_type": "code",
   "execution_count": 4,
   "metadata": {
    "ExecuteTime": {
     "end_time": "2020-04-13T18:24:18.619322Z",
     "start_time": "2020-04-13T18:24:18.609738Z"
    }
   },
   "outputs": [
    {
     "name": "stdout",
     "output_type": "stream",
     "text": [
      "<class 'pandas.core.frame.DataFrame'>\n",
      "Int64Index: 70000 entries, 0 to 99999\n",
      "Data columns (total 12 columns):\n",
      " #   Column       Non-Null Count  Dtype  \n",
      "---  ------       --------------  -----  \n",
      " 0   age          70000 non-null  int64  \n",
      " 1   gender       70000 non-null  int64  \n",
      " 2   height       70000 non-null  int64  \n",
      " 3   weight       70000 non-null  float64\n",
      " 4   ap_hi        70000 non-null  int64  \n",
      " 5   ap_lo        70000 non-null  int64  \n",
      " 6   cholesterol  70000 non-null  int64  \n",
      " 7   gluc         70000 non-null  int64  \n",
      " 8   smoke        70000 non-null  int64  \n",
      " 9   alco         70000 non-null  int64  \n",
      " 10  active       70000 non-null  int64  \n",
      " 11  cardio       70000 non-null  int64  \n",
      "dtypes: float64(1), int64(11)\n",
      "memory usage: 6.9 MB\n"
     ]
    }
   ],
   "source": [
    "df.info()"
   ]
  },
  {
   "cell_type": "markdown",
   "metadata": {},
   "source": [
    "### Variáveis \"height\" e \"weight\" podem ficar mais próximas de uma distribuição normal"
   ]
  },
  {
   "cell_type": "code",
   "execution_count": 5,
   "metadata": {
    "ExecuteTime": {
     "end_time": "2020-04-13T18:24:22.112018Z",
     "start_time": "2020-04-13T18:24:19.329267Z"
    }
   },
   "outputs": [
    {
     "data": {
      "image/png": "[encoded data removed]",
      "text/plain": [
       "<Figure size 1080x720 with 12 Axes>"
      ]
     },
     "metadata": {
      "needs_background": "light"
     },
     "output_type": "display_data"
    }
   ],
   "source": [
    "fig = plt.figure(figsize = (15,10))\n",
    "ax = fig.gca()\n",
    "df.hist(ax = ax, bins=100);"
   ]
  },
  {
   "cell_type": "code",
   "execution_count": 6,
   "metadata": {
    "ExecuteTime": {
     "end_time": "2020-04-13T18:24:22.318992Z",
     "start_time": "2020-04-13T18:24:22.113706Z"
    }
   },
   "outputs": [],
   "source": [
    "max_height = df.weight.max()\n",
    "df.height = np.sqrt(max_height + 1 - df.height)"
   ]
  },
  {
   "cell_type": "code",
   "execution_count": 7,
   "metadata": {
    "ExecuteTime": {
     "end_time": "2020-04-13T18:24:22.547641Z",
     "start_time": "2020-04-13T18:24:22.324298Z"
    }
   },
   "outputs": [
    {
     "data": {
      "text/plain": [
       "<matplotlib.axes._subplots.AxesSubplot at 0x7fc992fcd890>"
      ]
     },
     "execution_count": 7,
     "metadata": {},
     "output_type": "execute_result"
    },
    {
     "data": {
      "image/png": "[encoded data removed]",
      "text/plain": [
       "<Figure size 432x288 with 1 Axes>"
      ]
     },
     "metadata": {
      "needs_background": "light"
     },
     "output_type": "display_data"
    }
   ],
   "source": [
    "sns.distplot(df.height)"
   ]
  },
  {
   "cell_type": "code",
   "execution_count": 80,
   "metadata": {
    "ExecuteTime": {
     "end_time": "2020-04-13T15:22:25.205047Z",
     "start_time": "2020-04-13T15:22:25.201338Z"
    }
   },
   "outputs": [],
   "source": [
    "df.weight = np.sqrt(df.weight)"
   ]
  },
  {
   "cell_type": "code",
   "execution_count": 81,
   "metadata": {
    "ExecuteTime": {
     "end_time": "2020-04-13T15:22:26.982954Z",
     "start_time": "2020-04-13T15:22:26.792758Z"
    }
   },
   "outputs": [
    {
     "data": {
      "image/png": "[encoded data removed]",
      "text/plain": [
       "<Figure size 432x288 with 1 Axes>"
      ]
     },
     "metadata": {
      "needs_background": "light"
     },
     "output_type": "display_data"
    }
   ],
   "source": [
    "sns.distplot(df.weight);"
   ]
  },
  {
   "cell_type": "markdown",
   "metadata": {},
   "source": [
    "### Variável alvo está com valores balanceados"
   ]
  },
  {
   "cell_type": "code",
   "execution_count": 4,
   "metadata": {
    "ExecuteTime": {
     "end_time": "2020-03-27T20:39:29.583744Z",
     "start_time": "2020-03-27T20:39:29.386132Z"
    }
   },
   "outputs": [
    {
     "data": {
      "text/plain": [
       "<matplotlib.axes._subplots.AxesSubplot at 0x7f8e36dfd790>"
      ]
     },
     "execution_count": 4,
     "metadata": {},
     "output_type": "execute_result"
    },
    {
     "data": {
      "image/png": "[encoded data removed]",
      "text/plain": [
       "<Figure size 432x288 with 1 Axes>"
      ]
     },
     "metadata": {
      "needs_background": "light"
     },
     "output_type": "display_data"
    }
   ],
   "source": [
    "sns.countplot(df.cardio)"
   ]
  },
  {
   "cell_type": "markdown",
   "metadata": {},
   "source": [
    "### Variáveis numéricas continuas  estão em escalas diferentes. Necessário normalizar. Optei por usar o MinMaxScaler, pois o StandardScaler estava causando NaN no calculo do custo"
   ]
  },
  {
   "cell_type": "code",
   "execution_count": 106,
   "metadata": {
    "ExecuteTime": {
     "end_time": "2020-04-13T15:24:51.610955Z",
     "start_time": "2020-04-13T15:24:51.534485Z"
    }
   },
   "outputs": [],
   "source": [
    "mmsc = MinMaxScaler()\n",
    "variaveis_continuas = [\"age\", \"height\", \"weight\", \"ap_hi\", \"ap_lo\", \"cholesterol\"]\n",
    "df[variaveis_continuas] = mmsc.fit(df[variaveis_continuas]).transform(df[variaveis_continuas])"
   ]
  },
  {
   "cell_type": "markdown",
   "metadata": {},
   "source": [
    "### Como a variável Sexo é binária, troquei o valor 2 por 0"
   ]
  },
  {
   "cell_type": "code",
   "execution_count": 107,
   "metadata": {
    "ExecuteTime": {
     "end_time": "2020-04-13T15:24:52.492707Z",
     "start_time": "2020-04-13T15:24:52.485707Z"
    }
   },
   "outputs": [
    {
     "data": {
      "text/plain": [
       "1    45530\n",
       "2    24470\n",
       "Name: gender, dtype: int64"
      ]
     },
     "execution_count": 107,
     "metadata": {},
     "output_type": "execute_result"
    }
   ],
   "source": [
    "df.gender.value_counts()"
   ]
  },
  {
   "cell_type": "code",
   "execution_count": 108,
   "metadata": {
    "ExecuteTime": {
     "end_time": "2020-04-13T15:24:52.768684Z",
     "start_time": "2020-04-13T15:24:52.728312Z"
    }
   },
   "outputs": [],
   "source": [
    "df.gender = df.gender.apply(lambda genero: 0 if genero == 2 else genero)"
   ]
  },
  {
   "cell_type": "markdown",
   "metadata": {},
   "source": [
    "### Train/Test split como modo de validação. Os sets de X foram transpostos de modo que cada coluna seja um exemplo e cada linha seja uma feature"
   ]
  },
  {
   "cell_type": "code",
   "execution_count": 109,
   "metadata": {
    "ExecuteTime": {
     "end_time": "2020-04-13T15:24:53.380376Z",
     "start_time": "2020-04-13T15:24:53.347001Z"
    }
   },
   "outputs": [],
   "source": [
    "x, y = df.iloc[:,:-1].to_numpy(), df.iloc[:,-1].to_numpy()\n",
    "\n",
    "X_train, X_test, y_train, y_test = train_test_split(x, y, test_size=0.2)\n",
    "X_train = X_train.T\n",
    "X_test = X_test.T\n",
    "y_train = y_train.reshape((1, X_train.shape[1]))\n",
    "y_test = y_test.reshape((1, X_test.shape[1]))"
   ]
  },
  {
   "cell_type": "markdown",
   "metadata": {},
   "source": [
    "### Cada layer terá uma matriz de pesos W e um vetor bias b associado. A dimensão da matriz W é definida com a quantidade de linhas sendo igual a quantidade de nodos no layer e a quantidade colunas como a quantidade de inputs do layer. O vetor bias terá um bias para cada nodo layer"
   ]
  },
  {
   "cell_type": "code",
   "execution_count": 110,
   "metadata": {
    "ExecuteTime": {
     "end_time": "2020-04-13T15:24:54.173257Z",
     "start_time": "2020-04-13T15:24:54.169232Z"
    }
   },
   "outputs": [],
   "source": [
    "def get_parametros_iniciais(tamanho_layers):\n",
    "    np.random.seed(1)\n",
    "    parametros = []\n",
    "    for indice in range(1,len(tamanho_layers)):\n",
    "        parametros.append([np.random.randn(tamanho_layers[indice], tamanho_layers[indice-1]) * (2/np.sqrt(tamanho_layers[indice-1])),\n",
    "                           np.zeros((tamanho_layers[indice], 1))])\n",
    "    return parametros\n",
    "        "
   ]
  },
  {
   "cell_type": "markdown",
   "metadata": {},
   "source": [
    "### Definição das funções de ativação utilizadas: sigmóide e relu"
   ]
  },
  {
   "cell_type": "code",
   "execution_count": 111,
   "metadata": {
    "ExecuteTime": {
     "end_time": "2020-04-13T15:24:54.822119Z",
     "start_time": "2020-04-13T15:24:54.809671Z"
    }
   },
   "outputs": [],
   "source": [
    "def sigmoid(Z):\n",
    "    A = 1/(1+np.exp(-Z))\n",
    "    return A\n",
    "\n",
    "def softsign(Z):\n",
    "    A = np.divide(Z, (1+np.abs(Z)))\n",
    "    return A\n",
    "\n",
    "def relu(Z):\n",
    "    A = np.maximum(0,Z)\n",
    "    return A\n",
    "\n",
    "def leaky_relu(Z):\n",
    "    A = np.maximum(0.01*Z,Z)\n",
    "    return A\n",
    "    "
   ]
  },
  {
   "cell_type": "markdown",
   "metadata": {
    "ExecuteTime": {
     "end_time": "2020-03-11T18:47:53.154687Z",
     "start_time": "2020-03-11T18:47:53.149470Z"
    }
   },
   "source": [
    "### Esquema forward propagation\n",
    "<img src=\"imagens/model_architecture_kiank.png\" style=\"width:600px;height:300px;\">"
   ]
  },
  {
   "cell_type": "markdown",
   "metadata": {},
   "source": [
    "### O output do layer l é calculado conforme indicado abaixo, sendo A^[0] os dados de treino\n",
    "$$ A^{[l]} = \\theta(  (W^{[l]})^{T} \\cdot A^{[l-1]} + b^{[l]}) $$"
   ]
  },
  {
   "cell_type": "code",
   "execution_count": 112,
   "metadata": {
    "ExecuteTime": {
     "end_time": "2020-04-13T15:24:55.782425Z",
     "start_time": "2020-04-13T15:24:55.774405Z"
    }
   },
   "outputs": [],
   "source": [
    "def forward_propagation(X, parametros, funcao_ativacao):\n",
    "    cache = []\n",
    "    A = X\n",
    "    quantidade_layers = len(parametros)\n",
    "    for indice_layer in range(0, quantidade_layers-1): # foward propagation até o ultimo layer antes do layer output\n",
    "        W, b = parametros[indice_layer]\n",
    "        Z = np.dot(W, A) + b\n",
    "        cache.append((A, Z, W, b))\n",
    "        A = funcao_ativacao(Z)\n",
    "    W, b = parametros[indice_layer+1] # como é um problema de classificao, o último layer deve obrigatoriamente ter\n",
    "                                      #  a funcao sigmoide como funcao de ativação\n",
    "    \n",
    "    Z = np.dot(W, A) + b\n",
    "    cache.append((A, Z, W, b))\n",
    "    A = sigmoid(Z)\n",
    "    \n",
    "    return A, cache"
   ]
  },
  {
   "cell_type": "markdown",
   "metadata": {},
   "source": [
    "### A função custo Erro com regularização L2 é definida abaixo, com m sendo a quantidade de exemplos usados no treino $$Erro(Y, A, \\lambda, W) = -\\frac{1}{m} \\sum\\limits_{i = 0}^{m} (Y^{(i)}\\log\\left(A^{[L] (i)}\\right) + (1-Y^{(i)})\\log\\left(1- A^{[L](i)}\\right)) + \\frac{1}{m}\\frac{\\lambda}{2}\\sum\\limits_{l = 1}^{L} ||W^{(l)})||^{2} $$"
   ]
  },
  {
   "cell_type": "code",
   "execution_count": 113,
   "metadata": {
    "ExecuteTime": {
     "end_time": "2020-04-13T15:24:56.668752Z",
     "start_time": "2020-04-13T15:24:56.664313Z"
    }
   },
   "outputs": [],
   "source": [
    "def get_custo(A, Y, lambd, parametros):    \n",
    "    m = Y.shape[1]\n",
    "    l2 = (1/m) * (lambd/2) * np.sum([np.sum(np.square(w)) for w in parametros[:][0]])\n",
    "    custo = (1./m) * (-np.dot(Y,np.log(A).T) - np.dot(1-Y, np.log(1-A).T)) + l2\n",
    "    custo = float(np.squeeze(custo))\n",
    "    return custo"
   ]
  },
  {
   "cell_type": "markdown",
   "metadata": {},
   "source": [
    "### Os gradientes do layer l são definidos abaixo, sendo L o índice do último layer, A a função de ativação e Z a função linear\n",
    "\n",
    "### $$ \\frac{\\partial Erro}{\\partial W^{[l]}} = \\frac{\\partial Erro}{\\partial A^{[L]}} * \\prod_{i=L}^{l+1}(\\frac{\\partial A^{[i]}}{\\partial Z^{[i]}}*\\frac{\\partial Z^{[i]}}{\\partial A^{[i-1]}}) * \\frac{\\partial A^{[l]}}{\\partial Z^{[l]}} * \\frac{\\partial Z^{[l]}}{\\partial W^{[l]}} $$\n",
    "\n",
    "### $$ \\frac{\\partial Erro}{\\partial b^{[l]}} = \\frac{\\partial Erro}{\\partial A^{[L]}} * \\prod_{i=L}^{l+1}(\\frac{\\partial A^{[i]}}{\\partial Z^{[i]}}*\\frac{\\partial Z^{[i]}}{\\partial A^{[i-1]}}) * \\frac{\\partial A^{[l]}}{\\partial Z^{[l]}} * \\frac{\\partial Z^{[l]}}{\\partial b^{[l]}} $$"
   ]
  },
  {
   "cell_type": "code",
   "execution_count": 114,
   "metadata": {
    "ExecuteTime": {
     "end_time": "2020-04-13T15:24:57.334361Z",
     "start_time": "2020-04-13T15:24:57.329310Z"
    }
   },
   "outputs": [],
   "source": [
    "def derivada_relu(dA, Z):\n",
    "    dZ = np.array(dA, copy=True) \n",
    "    dZ[Z <= 0] = 0 \n",
    "    #dZ[Z > 0] = 1\n",
    "    return dZ\n",
    "\n",
    "def derivada_leaky_relu(dA, Z):\n",
    "    dZ = np.array(dA, copy=True) \n",
    "    dZ[Z <= 0] = 0.01\n",
    "    #dZ[Z > 0] = 1\n",
    "    return dZ\n",
    "\n",
    "def derivada_softsign(dA, Z):\n",
    "    return np.multiply(dA, np.divide(1, np.multiply(1+Z, 1+Z)))\n",
    "\n",
    "def derivada_sigmoide(dA, Z):\n",
    "    s = 1/(1+np.exp(-Z))\n",
    "    dZ = dA * s * (1-s)    \n",
    "    return dZ"
   ]
  },
  {
   "cell_type": "code",
   "execution_count": 115,
   "metadata": {
    "ExecuteTime": {
     "end_time": "2020-04-13T15:24:57.594321Z",
     "start_time": "2020-04-13T15:24:57.576114Z"
    }
   },
   "outputs": [],
   "source": [
    "def backward_propagation(A, cache, Y, funcao_ativacao_derivada):\n",
    "    m = A.shape[1]\n",
    "    Y = Y.reshape(A.shape)\n",
    "    gradientes = []\n",
    "    \n",
    "    dA = - (np.divide(Y, A) - np.divide(1 - Y, 1 - A))\n",
    "    A_prev, Z, W, b = cache[-1]\n",
    "    dZ = derivada_sigmoide(dA, Z)\n",
    "\n",
    "    dA_layer_anterior = np.dot(W.T, dZ)\n",
    "    dW = np.dot(dZ, A_prev.T) / m\n",
    "    db = np.sum(dZ, axis=1, keepdims=True) / m\n",
    "    gradientes.append([dW, db])\n",
    "\n",
    "    for cache_ in cache[::-1][1:]:\n",
    "        dA = dA_layer_anterior\n",
    "        A_prev, Z, W, b = cache_\n",
    "        dZ = funcao_ativacao_derivada(dA, Z)\n",
    "\n",
    "        dA_layer_anterior = np.dot(W.T, dZ)\n",
    "        dW = np.dot(dZ, A_prev.T) / m\n",
    "        db = np.sum(dZ, axis=1, keepdims=True) / m\n",
    "        gradientes.append([dW, db])\n",
    "        \n",
    "    return gradientes[::-1]\n"
   ]
  },
  {
   "cell_type": "markdown",
   "metadata": {},
   "source": [
    "### A atualização dos parâmetros do layer l é definido a seguir, sendo 𝛼 a taxa de aprendizado\n",
    "### $$ W^{[l]} = W^{[l]} - \\alpha * \\frac{\\partial Erro}{\\partial W^{[l]}} $$\n",
    "### $$ b^{[l]} = b^{[l]} - \\alpha *  \\frac{\\partial Erro}{\\partial b^{[l]}} $$"
   ]
  },
  {
   "cell_type": "code",
   "execution_count": 135,
   "metadata": {
    "ExecuteTime": {
     "end_time": "2020-04-13T15:31:10.277252Z",
     "start_time": "2020-04-13T15:31:10.266947Z"
    }
   },
   "outputs": [],
   "source": [
    "def get_parametros_atualizados(parametros, gradientes, taxa_aprendizado, m, lambd, momentum, rms_prop, iteracao, beta1=0.9, beta2=0.999):\n",
    "    L = len(parametros) \n",
    "    for l in range(L):\n",
    "        dW = (gradientes[l][0] + (lambd/m) * parametros[l][0])\n",
    "        db = gradientes[l][1]\n",
    "        momentum[l][0] = beta1 * momentum[l][0] + (1-beta1) * dW\n",
    "        momentum[l][1] = beta1 * momentum[l][1] + (1-beta1) * db\n",
    "        momentum_bias_corregido_w = momentum[l][0] / (1- beta1**iteracao)\n",
    "        momentum_bias_corregido_b = momentum[l][1] / (1 - beta1**iteracao)\n",
    "        \n",
    "        rms_prop[l][0] = beta2 * rms_prop[l][0] + (1-beta2) * np.square(dW)\n",
    "        rms_prop[l][1] = beta2 * rms_prop[l][1] + (1-beta2) *  np.square(db)\n",
    "        rms_prop_bias_corregido_w = rms_prop[l][0] / (1 - beta2**iteracao)\n",
    "        rms_prop_bias_corregido_b = rms_prop[l][1] / (1 - beta2**iteracao)\n",
    "        parametros[l][0] -=  taxa_aprendizado * (momentum_bias_corregido_w / \n",
    "                                                 np.sqrt(rms_prop_bias_corregido_w) + 0.00000001)\n",
    "        parametros[l][1] -=  taxa_aprendizado * (momentum_bias_corregido_b / \n",
    "                                                 np.sqrt(rms_prop_bias_corregido_b) + 0.00000001)\n",
    "        \n",
    "    return parametros, momentum, rms_prop"
   ]
  },
  {
   "cell_type": "code",
   "execution_count": 136,
   "metadata": {
    "ExecuteTime": {
     "end_time": "2020-04-13T15:31:10.525875Z",
     "start_time": "2020-04-13T15:31:10.509073Z"
    }
   },
   "outputs": [],
   "source": [
    "def get_mini_batches(X, Y, tamanho_batch):\n",
    "    quantidade_batchs = X.shape[1] // tamanho_batch\n",
    "    mini_batches = []\n",
    "    batch = 0 \n",
    "    for batch in range(quantidade_batchs-1):\n",
    "        x = X[:, tamanho_batch*batch:tamanho_batch*tamanho_batch*(batch+1)]\n",
    "        y = Y[:, tamanho_batch*batch:tamanho_batch*tamanho_batch*(batch+1)]\n",
    "        mini_batches.append((x,y))\n",
    "\n",
    "    x = X[:,tamanho_batch*(batch+1):]\n",
    "    y = Y[:, tamanho_batch*(batch+1):]\n",
    "    mini_batches.append((x,y))\n",
    "    return mini_batches    "
   ]
  },
  {
   "cell_type": "code",
   "execution_count": 137,
   "metadata": {
    "ExecuteTime": {
     "end_time": "2020-04-13T15:31:10.751237Z",
     "start_time": "2020-04-13T15:31:10.739409Z"
    }
   },
   "outputs": [],
   "source": [
    "def inicializa_adam(parametros):\n",
    "    gradientes_exp_ponderados = []\n",
    "    for w, b in parametros:\n",
    "        w = np.zeros(w.shape)\n",
    "        b = np.zeros(b.shape)\n",
    "        gradientes_exp_ponderados.append([w, b])\n",
    "    return gradientes_exp_ponderados, np.copy(gradientes_exp_ponderados)"
   ]
  },
  {
   "cell_type": "code",
   "execution_count": 138,
   "metadata": {
    "ExecuteTime": {
     "end_time": "2020-04-13T15:31:10.959090Z",
     "start_time": "2020-04-13T15:31:10.938534Z"
    }
   },
   "outputs": [],
   "source": [
    "def fit(X, Y, taxa_aprendizado, iteracoes, tamanhos_layers, lambd=0.7, funcao_ativacao=relu, tamanho_batch=1024,\n",
    "       beta1=0.9, beta2=0.999):\n",
    "    global gradientes\n",
    "    global parametros\n",
    "    \n",
    "    if funcao_ativacao == relu:\n",
    "        funcao_ativacao_derivada = derivada_relu\n",
    "    elif funcao_ativacao == softsign:\n",
    "        funcao_ativacao_derivada = derivada_softsign\n",
    "    elif funcao_ativacao == leaky_relu:\n",
    "        funcao_ativacao_derivada = derivada_leaky_relu\n",
    "    \n",
    "    parametros = get_parametros_iniciais(tamanhos_layers)\n",
    "    mini_batches = get_mini_batches(X, Y, tamanho_batch)\n",
    "    momentum, rms_prop = inicializa_adam(parametros)\n",
    "    custos = []\n",
    "    menor_custo = 1\n",
    "    parametros_com_menor_custo = None\n",
    "\n",
    "    for iteracao in range(1, iteracoes):\n",
    "        for x,y in mini_batches:\n",
    "            A, cache = forward_propagation(x, parametros, funcao_ativacao=funcao_ativacao)\n",
    "            custo = get_custo(A, y, lambd, parametros)\n",
    "            if custo < menor_custo:\n",
    "                menor_custo = custo\n",
    "                parametros_com_menor_custo = np.copy(parametros)\n",
    "            custos.append(custo)\n",
    "            gradientes = backward_propagation(A, cache, y, funcao_ativacao_derivada=funcao_ativacao_derivada)\n",
    "            parametros, momentum, rms_prop = get_parametros_atualizados(parametros, gradientes, \n",
    "                                                        taxa_aprendizado, x.shape[1], lambd, \n",
    "                                                            momentum, rms_prop, iteracao, beta1, beta2)\n",
    "        if iteracao % 100 == 0:\n",
    "            print(\"Iteração: {} | Custo: {}\".format(iteracao, custo))\n",
    "    \n",
    "    return parametros_com_menor_custo, custos       "
   ]
  },
  {
   "cell_type": "code",
   "execution_count": 139,
   "metadata": {
    "ExecuteTime": {
     "end_time": "2020-04-13T15:31:11.154434Z",
     "start_time": "2020-04-13T15:31:11.147464Z"
    }
   },
   "outputs": [],
   "source": [
    "def predict(X, Y, parametros, funcao_ativacao):\n",
    "    A, cache = forward_propagation(X, parametros, funcao_ativacao=funcao_ativacao)\n",
    "    return np.round(A)"
   ]
  },
  {
   "cell_type": "code",
   "execution_count": 140,
   "metadata": {
    "ExecuteTime": {
     "end_time": "2020-04-13T15:31:11.572430Z",
     "start_time": "2020-04-13T15:31:11.558737Z"
    }
   },
   "outputs": [],
   "source": [
    "def get_lista_unificada(parametros):\n",
    "    lista = np.array([])\n",
    "    for index in range(len(parametros)):\n",
    "        lista = np.append(lista, parametros[index][0])\n",
    "        lista = np.append(lista, parametros[index][1])\n",
    "        \n",
    "    return lista\n",
    "\n",
    "def converte_array_em_parametros(array, tamanho_layers):\n",
    "    parametros = []\n",
    "    for index in range(1, len(tamanho_layers)):\n",
    "        w_shape_linear = tamanho_layers[index]*tamanho_layers[index-1]\n",
    "        w = array[:w_shape_linear].reshape((tamanho_layers[index], tamanho_layers[index-1]))\n",
    "        b = array[w_shape_linear:w_shape_linear + tamanho_layers[index]].reshape((tamanho_layers[index], 1))\n",
    "        parametros.append([w, b])\n",
    "        array = array[w_shape_linear + tamanho_layers[index]:]\n",
    "    return parametros\n",
    "\n",
    "\n",
    "def verifica_backpropagation(parametros, gradientes, tamanho_layers, X, Y, epsilon=1e-7):\n",
    "    parameters_values = get_lista_unificada(parametros)\n",
    "    grads =  get_lista_unificada(gradientes)\n",
    "    \n",
    "    num_parameters = parameters_values.shape[0]\n",
    "    J_plus = np.zeros((num_parameters, 1))\n",
    "    J_minus = np.zeros((num_parameters, 1))\n",
    "    gradapprox = np.zeros((num_parameters, 1))\n",
    "    \n",
    "    for i in range(num_parameters):\n",
    "        \n",
    "        # Compute J_plus[i]. Inputs: \"parameters_values, epsilon\". Output = \"J_plus[i]\".\n",
    "        # \"_\" is used because the function you have to outputs two parameters but we only care about the first one\n",
    "        ### START CODE HERE ### (approx. 3 lines)\n",
    "        thetaplus =  np.copy(parameters_values)                                       # Step 1\n",
    "        thetaplus[i] = thetaplus[i] + epsilon                                   # Step 2\n",
    "        parametros = converte_array_em_parametros(thetaplus, tamanho_layers)\n",
    "        A, _ =  forward_propagation(X, parametros)  # Step 3\n",
    "        J_plus[i] = get_custo(A, Y, 0.7, parametros[:][0])\n",
    "        ### END CODE HERE ###\n",
    "        \n",
    "        # Compute J_minus[i]. Inputs: \"parameters_values, epsilon\". Output = \"J_minus[i]\".\n",
    "        ### START CODE HERE ### (approx. 3 lines)\n",
    "        thetaminus = np.copy(parameters_values)                                       # Step 1\n",
    "        thetaminus[i] = thetaminus[i] - epsilon                                 # Step 2       \n",
    "        parametros = converte_array_em_parametros(thetaminus, tamanho_layers)\n",
    "        A, _ = forward_propagation(X, parametros) # Step 3\n",
    "        J_minus[i] = get_custo(A, Y, 0.7, parametros[:][0])\n",
    "        ### END CODE HERE ###\n",
    "        \n",
    "        # Compute gradapprox[i]\n",
    "        ### START CODE HERE ### (approx. 1 line)\n",
    "        gradapprox[i] = (J_plus[i] - J_minus[i]) / (2 * epsilon)\n",
    "        ### END CODE HERE ###\n",
    "    \n",
    "    # Compare gradapprox to backward propagation gradients by computing difference.\n",
    "    ### START CODE HERE ### (approx. 1 line)\n",
    "    numerator = np.linalg.norm(grads - gradapprox)                                     # Step 1'\n",
    "    denominator = np.linalg.norm(grads) + np.linalg.norm(gradapprox)                   # Step 2'\n",
    "    difference = numerator / denominator                                              # Step 3'\n",
    "    ### END CODE HERE ###\n",
    "\n",
    "    if difference > 1e-7:\n",
    "        print(\"\\033[93m\" + \"There is a mistake in the backward propagation! difference = \" + str(difference) + \"\\033[0m\")\n",
    "    else:\n",
    "        print(\"\\033[92m\" + \"Your backward propagation works perfectly fine! difference = \" + str(difference) + \"\\033[0m\")\n",
    "    \n",
    "    return difference, gradapprox"
   ]
  },
  {
   "cell_type": "code",
   "execution_count": 145,
   "metadata": {
    "ExecuteTime": {
     "end_time": "2020-04-13T15:33:04.193602Z",
     "start_time": "2020-04-13T15:32:29.027361Z"
    }
   },
   "outputs": [
    {
     "name": "stdout",
     "output_type": "stream",
     "text": [
      "Iteração: 100 | Custo: 0.6109773427876616\n",
      "Iteração: 200 | Custo: 0.5728389459054839\n"
     ]
    }
   ],
   "source": [
    "tamanho_layers = [11, 8, 4, 2, 1]\n",
    "gradientes = []\n",
    "parametros = []\n",
    "parametros, custos = fit(X_train, y_train, 0.01, 300, tamanho_layers, lambd=0.1, tamanho_batch=4096,\n",
    "                        funcao_ativacao=relu, beta1=0.85, beta2=0.999)"
   ]
  },
  {
   "cell_type": "code",
   "execution_count": 146,
   "metadata": {
    "ExecuteTime": {
     "end_time": "2020-04-13T15:33:04.208872Z",
     "start_time": "2020-04-13T15:33:04.195298Z"
    }
   },
   "outputs": [],
   "source": [
    "train_pred = predict(X_train, y_train, parametros, funcao_ativacao=relu)"
   ]
  },
  {
   "cell_type": "code",
   "execution_count": 147,
   "metadata": {
    "ExecuteTime": {
     "end_time": "2020-04-13T15:33:04.267349Z",
     "start_time": "2020-04-13T15:33:04.210473Z"
    }
   },
   "outputs": [
    {
     "data": {
      "text/plain": [
       "0.7324583283161028"
      ]
     },
     "execution_count": 147,
     "metadata": {},
     "output_type": "execute_result"
    }
   ],
   "source": [
    "f1_score(y_train[0], train_pred[0])"
   ]
  },
  {
   "cell_type": "code",
   "execution_count": 148,
   "metadata": {
    "ExecuteTime": {
     "end_time": "2020-04-13T15:33:04.277518Z",
     "start_time": "2020-04-13T15:33:04.269117Z"
    }
   },
   "outputs": [],
   "source": [
    "test_pred = predict(X_test, y_test, parametros, funcao_ativacao=relu)"
   ]
  },
  {
   "cell_type": "code",
   "execution_count": 149,
   "metadata": {
    "ExecuteTime": {
     "end_time": "2020-04-13T15:33:04.304660Z",
     "start_time": "2020-04-13T15:33:04.278698Z"
    }
   },
   "outputs": [
    {
     "data": {
      "text/plain": [
       "0.7342604644790025"
      ]
     },
     "execution_count": 149,
     "metadata": {},
     "output_type": "execute_result"
    }
   ],
   "source": [
    "f1_score(y_test[0], test_pred[0])"
   ]
  },
  {
   "cell_type": "code",
   "execution_count": 150,
   "metadata": {
    "ExecuteTime": {
     "end_time": "2020-04-13T15:33:04.323321Z",
     "start_time": "2020-04-13T15:33:04.305932Z"
    }
   },
   "outputs": [
    {
     "data": {
      "text/plain": [
       "0.7229285714285715"
      ]
     },
     "execution_count": 150,
     "metadata": {},
     "output_type": "execute_result"
    }
   ],
   "source": [
    "accuracy_score(y_test[0], test_pred[0])"
   ]
  },
  {
   "cell_type": "markdown",
   "metadata": {},
   "source": [
    "### Gráfico Custo x Iterações\n",
    "#### O custo fica dando zige-zagues, mas no geral ele sempre desce. Isso se deve ao fato de ser usado mini batches na atualização dos pesos"
   ]
  },
  {
   "cell_type": "code",
   "execution_count": 153,
   "metadata": {
    "ExecuteTime": {
     "end_time": "2020-04-13T15:38:42.878084Z",
     "start_time": "2020-04-13T15:38:42.439789Z"
    }
   },
   "outputs": [
    {
     "data": {
      "text/plain": [
       "<matplotlib.axes._subplots.AxesSubplot at 0x7f07d2333b10>"
      ]
     },
     "execution_count": 153,
     "metadata": {},
     "output_type": "execute_result"
    },
    {
     "data": {
      "image/png": "[encoded data removed]",
      "text/plain": [
       "<Figure size 432x288 with 1 Axes>"
      ]
     },
     "metadata": {
      "needs_background": "light"
     },
     "output_type": "display_data"
    }
   ],
   "source": [
    "sns.lineplot(y=custos, x=list(range(len(custos))))"
   ]
  }
 ],
 "metadata": {
  "kernelspec": {
   "display_name": "Python 3",
   "language": "python",
   "name": "python3"
  },
  "language_info": {
   "codemirror_mode": {
    "name": "ipython",
    "version": 3
   },
   "file_extension": ".py",
   "mimetype": "text/x-python",
   "name": "python",
   "nbconvert_exporter": "python",
   "pygments_lexer": "ipython3",
   "version": "3.7.7"
  }
 },
 "nbformat": 4,
 "nbformat_minor": 2
}
